{
 "cells": [
  {
   "cell_type": "markdown",
   "metadata": {},
   "source": [
    "###### Roger Ho\n",
    "## IS590PR - Fall 2017\n",
    "## Assignment 5:  Analysis with multi-file or multi-table data using Pandas\n",
    "### Data Set: Federal Elections Commission\n",
    "\n",
    "http://classic.fec.gov/finance/disclosure/ftpdet.shtml files for download and the metadata.\n",
    "\n",
    "Refer to examples in the Notebook I used in class as needed for starting points.  It is here: https://github.com/iSchool-590PR-2017Fall/590PR-examples/blob/master/FEC_pandas.ipynb\n",
    "\n",
    "Also refer to Chapters 5 & 8 of the McKinney book for more examples. \n",
    "\n",
    "Note you may have to add support for the other data files in the FEC data set. Read their metadata pages to understand their contents.\n",
    "\n",
    "# Instructions:\n",
    "* **DO NOT copy the whole lecture notebook** into this one, because a lot of it does not pertain directly to the analysis in the assignment.\n",
    "* **Choose 3 of the analytical queries you are going to implement from the lists below. You must try at least 1 from the multi-file queries. Then, for your fourth query, come up with something else different from any of these to implement. Make sure your English description of its purpose is clear.**\n",
    "* Add the code necessary to complete each one using Pandas DataFrames and/or Pandas Series. Clearly label each one with \"Markdown\" cells above them, and reasonable amounts of documentation between any intermediate results to show how you created the result. \n",
    "* Once you have things working, delete any wrong or experimental code that you may still have lingering, so that what remains shows just the complete start-to-finish process of loading the data and producing your analytical results.\n",
    "* Save the notebook with your output shown.\n",
    "* Commit & Push this notebook file before the due date so I can see your work in GitHub Classroom for grading & feedback."
   ]
  },
  {
   "cell_type": "markdown",
   "metadata": {},
   "source": [
    "# QUERIES TO CHOOSE FROM:\n",
    "\n",
    "[General tips: Unless stated otherwise, you may use just a single 2-year data set to compute any of these. Any time a query description has 'per' or 'each', that means you need to use groupby on the column(s) that follow. But some queries described without those words also still need groupby]\n",
    "\n",
    "## Single-file queries:\n",
    "* List all individuals who donated a TOTAL of over 100,000 dollars. Show name, city, state, employer, occupation, and total amount. [Tip: You must groupby name+city+state or by name+zipcode]\n",
    "* List top 10 cities by total individual donations. Try creating a visual barchart with matplotlib.\n",
    "* Compute the total amount of donations received PER MONTH from all individuals together, listing in date order. [Tips: You'll have to correct the import parsing of TRANSACTION_DT in the itcont.txt file -- The original text files have dates like '13102017' for Oct. 13, 2017. ]\n",
    "* Total Expenditures by all committees per month. [Tip: You'll have to correct the import parsing of TRANSACTION_DT in the oppexp.txt file -- The original text files have dates like '13/10/2017' for Oct. 13, 2017.]\n",
    "* List name, city, and state of individual people who made more than 1,000 donation **transactions**.  It's crazy, but there's even someone here in Champaign if you're using the 2015-2016 data.\n",
    "* List the top 20 professions (Occupations) for total donations.\n",
    "\n",
    "* For donations directly to the presidential election only (2015-2016 files), determine total individual donations PER STATE.\n"
   ]
  },
  {
   "cell_type": "markdown",
   "metadata": {},
   "source": [
    "## Multi-file queries (needing merge or join).  Some of these are good ways to see corruption in action:\n",
    "* Find people who donated over 5000 directly to a Senate or House candidate who's not even in their own state, and show the details. [Tip: You'll need to compare the candidate's state to the individual donor's state after you get them joined.]\n",
    "* List every INCUMBENT Senate & House candidate alphabetically, showing their Name, State, and Party affiliation. For each one, list the name of every Corporation or other PAC that has \"bought\" them with huge donations (for example, totaling more than 25,000 dollars each). [Incumbent means they're already in office and are running for re-election. This is viewable in the \"CAND_ICI\" column.]\n",
    "* Join Committees with the \"itpas\" file and the Candidate file. Then use groupby properly to build a dataframe with CMTE_ID as the index, a column for Committee name, and columns for each political party of interest. In the party columns, it shows how much total money it spent on any candidates from each party.  With this we can see things like how strongly the National Rifle Association and \"Big Oil\" companies support Republicans and how strongly many labor unions support Democrats, or how organizations protecting natural resources support Democrats, Green Party, or other fringe parties, etc. [The list of parties coded in the database is shown here: http://classic.fec.gov/finance/disclosure/metadata/DataDictionaryPartyCodeDescriptions.shtml]\n",
    "\n",
    "* Download all 3 individual donations files (itcont.txt) from 2014, 2016, and 2018. Figure out how to concatenate them (just the columns you need) into a single DataFrame covering that whole range from 2013-2018. Then use that to compute an analysis of questions such as:\n",
    "    * Political activity is much higher for Presidential elections than in other years. Find out whether the level of donations to Senate and House campaigns goes up or down at that time compared to other years.\n",
    "    * Find out how many and what percentage of individual donors have contributed to BOTH a Democratic and a Republican candidate at some point.\n",
    "    "
   ]
  },
  {
   "cell_type": "code",
   "execution_count": 1,
   "metadata": {
    "collapsed": true
   },
   "outputs": [],
   "source": [
    "%matplotlib inline"
   ]
  },
  {
   "cell_type": "code",
   "execution_count": 2,
   "metadata": {
    "collapsed": true
   },
   "outputs": [],
   "source": [
    "import pandas as pd\n",
    "import numpy as np\n",
    "import matplotlib.pyplot as plt\n",
    "import urllib"
   ]
  },
  {
   "cell_type": "markdown",
   "metadata": {
    "collapsed": true
   },
   "source": [
    "####  First create functions for processing data into a format so that the data values and its header values could all be loaded into a pandas dataframe"
   ]
  },
  {
   "cell_type": "code",
   "execution_count": 3,
   "metadata": {
    "collapsed": true
   },
   "outputs": [],
   "source": [
    "def get_header(header_file) -> list:\n",
    "    \"\"\"\n",
    "    Opens the passed in discription file (They would be in csv format containing only one line of column names)\n",
    "    Read the line of the file, and use strip() and split(',') to get rid of unwanted spaces and returning a list of \n",
    "    column names that are seperated by the comma.\n",
    "    \n",
    "    :param header_file: CSV files with one line of data that would be served as the column names (header row)\n",
    "    :return columns: A list of strings containing the column names\n",
    "    \"\"\"\n",
    "    with open(header_file, 'r') as cols:\n",
    "        columns = cols.readline().strip().split(',')\n",
    "    return columns"
   ]
  },
  {
   "cell_type": "markdown",
   "metadata": {},
   "source": [
    "#### Generalize the creation of pandas dataframe on the data file and its header name list for easier calling to analyze different files and data"
   ]
  },
  {
   "cell_type": "code",
   "execution_count": 4,
   "metadata": {
    "collapsed": true
   },
   "outputs": [],
   "source": [
    "def CSV_DF(data_file, header_file, usecols = [], dtype=None, sep = \"|\", index_col = False):\n",
    "    \"\"\"\n",
    "    Generalize the creation of the pandas dataframe from the csv data and header files for easier calling and reusability\n",
    "    \"\"\"\n",
    "    header_list = get_header(header_file)\n",
    "    if len(usecols) == 0:\n",
    "        return pd.read_csv(data_file, dtype = dtype,sep = sep, index_col = index_col, names = header_list, encoding = 'utf-8')\n",
    "    else:\n",
    "        return pd.read_csv(data_file, dtype = dtype,sep=sep, index_col=index_col, names=header_list,encoding='utf-8',usecols=usecols)\n"
   ]
  },
  {
   "cell_type": "markdown",
   "metadata": {
    "collapsed": true
   },
   "source": [
    "# Query 1:\n",
    "#### Total Expenditures by all committees per month."
   ]
  },
  {
   "cell_type": "code",
   "execution_count": 5,
   "metadata": {
    "collapsed": true
   },
   "outputs": [],
   "source": [
    "# seting data file and header file location for reading data into the pandas dataframe\n",
    "operating_Expenditures = \"./operating_Expenditures/oppexp.txt\"\n",
    "operating_Expenditures_header = \"./operating_Expenditures/oppexp_header_file.csv\""
   ]
  },
  {
   "cell_type": "code",
   "execution_count": 6,
   "metadata": {
    "collapsed": true
   },
   "outputs": [],
   "source": [
    "# In order to calculate total expenditures by all committees per month, we only need the data of committee id ('CMTE_ID'),\n",
    "# Transaction date (TRANSACTION_DT) and transaction amount (TRANSACTION_AMT). Thus we only use those three columns\n",
    "# when reading in the data with usecols and setting their data type with dtype to align the datatype of the datafram\n",
    "# data and to save time when reading in data.\n",
    "opExp_df = CSV_DF(operating_Expenditures, operating_Expenditures_header, \n",
    "                  usecols=['CMTE_ID','TRANSACTION_DT', 'TRANSACTION_AMT'],\n",
    "                  dtype = {\"TRANSACTION_AMT\":float, \"TRANSACTION_DT\":str})"
   ]
  },
  {
   "cell_type": "code",
   "execution_count": 7,
   "metadata": {},
   "outputs": [
    {
     "data": {
      "text/html": [
       "<div>\n",
       "<table border=\"1\" class=\"dataframe\">\n",
       "  <thead>\n",
       "    <tr style=\"text-align: right;\">\n",
       "      <th></th>\n",
       "      <th>CMTE_ID</th>\n",
       "      <th>TRANSACTION_DT</th>\n",
       "      <th>TRANSACTION_AMT</th>\n",
       "    </tr>\n",
       "  </thead>\n",
       "  <tbody>\n",
       "    <tr>\n",
       "      <th>0</th>\n",
       "      <td>C00004606</td>\n",
       "      <td>03/13/2015</td>\n",
       "      <td>600.00</td>\n",
       "    </tr>\n",
       "    <tr>\n",
       "      <th>1</th>\n",
       "      <td>C00004606</td>\n",
       "      <td>03/27/2015</td>\n",
       "      <td>982.80</td>\n",
       "    </tr>\n",
       "    <tr>\n",
       "      <th>2</th>\n",
       "      <td>C00378067</td>\n",
       "      <td>03/31/2015</td>\n",
       "      <td>233.96</td>\n",
       "    </tr>\n",
       "    <tr>\n",
       "      <th>3</th>\n",
       "      <td>C00010470</td>\n",
       "      <td>03/31/2015</td>\n",
       "      <td>269.37</td>\n",
       "    </tr>\n",
       "    <tr>\n",
       "      <th>4</th>\n",
       "      <td>C00465211</td>\n",
       "      <td>03/01/2015</td>\n",
       "      <td>750.00</td>\n",
       "    </tr>\n",
       "  </tbody>\n",
       "</table>\n",
       "</div>"
      ],
      "text/plain": [
       "     CMTE_ID TRANSACTION_DT  TRANSACTION_AMT\n",
       "0  C00004606     03/13/2015           600.00\n",
       "1  C00004606     03/27/2015           982.80\n",
       "2  C00378067     03/31/2015           233.96\n",
       "3  C00010470     03/31/2015           269.37\n",
       "4  C00465211     03/01/2015           750.00"
      ]
     },
     "execution_count": 7,
     "metadata": {},
     "output_type": "execute_result"
    }
   ],
   "source": [
    "# A look at our dataframe\n",
    "opExp_df.head()"
   ]
  },
  {
   "cell_type": "code",
   "execution_count": 8,
   "metadata": {
    "collapsed": true
   },
   "outputs": [],
   "source": [
    "# Create functions to see if their are date values we'll have to correct the import parsing of TRANSACTION_DT in \n",
    "# the oppexp.txt file whether the original text files have dates like '13/10/2017' for Oct. 13, 2017.\n",
    "# So we look at all the dates to see if there are any |dates that have the first two digits that represents months larger \n",
    "# than 12 or days that are larger than 31 or if any of them are smaller than 0.\n",
    "# If there are, it means that incorrect expression of dates exists and we will need to change it accordingly\n",
    "def find_abnormal_months(data):\n",
    "    try:\n",
    "        if int(data[0:2]) > 12 or int(data[0:2]) <= 0:\n",
    "            print(data)\n",
    "    except:\n",
    "        print(data)\n",
    "\n",
    "        \n",
    "def find_abnormal_days(data):\n",
    "    try:\n",
    "        if int(data[3:5]) > 31 or int(data[3:5]) <= 0:\n",
    "            print(data)\n",
    "    except:\n",
    "        print(data)"
   ]
  },
  {
   "cell_type": "code",
   "execution_count": 9,
   "metadata": {},
   "outputs": [
    {
     "name": "stdout",
     "output_type": "stream",
     "text": [
      "nan\n",
      "nan\n",
      "nan\n",
      "nan\n",
      "nan\n",
      "nan\n",
      "nan\n",
      "nan\n",
      "nan\n",
      "nan\n",
      "nan\n",
      "nan\n",
      "nan\n",
      "nan\n",
      "nan\n",
      "nan\n",
      "nan\n",
      "nan\n",
      "nan\n",
      "nan\n",
      "nan\n",
      "nan\n",
      "nan\n",
      "nan\n",
      "nan\n",
      "nan\n",
      "nan\n",
      "nan\n",
      "nan\n",
      "nan\n",
      "nan\n",
      "nan\n",
      "nan\n",
      "nan\n",
      "nan\n",
      "nan\n",
      "nan\n",
      "nan\n",
      "nan\n",
      "nan\n",
      "nan\n",
      "nan\n",
      "nan\n",
      "nan\n",
      "nan\n",
      "nan\n",
      "nan\n",
      "nan\n",
      "nan\n",
      "nan\n",
      "nan\n",
      "nan\n",
      "nan\n",
      "nan\n",
      "nan\n",
      "nan\n",
      "nan\n",
      "nan\n",
      "nan\n",
      "nan\n",
      "nan\n",
      "nan\n",
      "nan\n",
      "nan\n",
      "nan\n",
      "nan\n",
      "nan\n",
      "nan\n",
      "nan\n",
      "nan\n",
      "nan\n",
      "nan\n",
      "nan\n",
      "nan\n",
      "nan\n",
      "nan\n",
      "nan\n",
      "nan\n",
      "nan\n",
      "nan\n",
      "nan\n",
      "nan\n",
      "nan\n",
      "nan\n",
      "nan\n",
      "nan\n",
      "nan\n",
      "nan\n",
      "nan\n",
      "nan\n",
      "nan\n",
      "nan\n",
      "nan\n",
      "nan\n",
      "nan\n",
      "nan\n",
      "nan\n",
      "nan\n",
      "nan\n",
      "nan\n",
      "nan\n",
      "nan\n",
      "nan\n",
      "nan\n",
      "nan\n",
      "nan\n",
      "nan\n",
      "nan\n",
      "nan\n",
      "nan\n",
      "nan\n",
      "nan\n",
      "nan\n",
      "nan\n",
      "nan\n",
      "nan\n",
      "nan\n",
      "nan\n",
      "nan\n",
      "nan\n",
      "nan\n",
      "nan\n",
      "nan\n",
      "nan\n",
      "nan\n",
      "nan\n",
      "nan\n",
      "nan\n",
      "nan\n",
      "nan\n",
      "nan\n",
      "nan\n",
      "nan\n",
      "nan\n",
      "nan\n",
      "nan\n",
      "nan\n",
      "nan\n",
      "nan\n",
      "nan\n",
      "nan\n",
      "nan\n",
      "nan\n",
      "nan\n",
      "nan\n",
      "nan\n"
     ]
    },
    {
     "data": {
      "text/plain": [
       "0          None\n",
       "1          None\n",
       "2          None\n",
       "3          None\n",
       "4          None\n",
       "5          None\n",
       "6          None\n",
       "7          None\n",
       "8          None\n",
       "9          None\n",
       "10         None\n",
       "11         None\n",
       "12         None\n",
       "13         None\n",
       "14         None\n",
       "15         None\n",
       "16         None\n",
       "17         None\n",
       "18         None\n",
       "19         None\n",
       "20         None\n",
       "21         None\n",
       "22         None\n",
       "23         None\n",
       "24         None\n",
       "25         None\n",
       "26         None\n",
       "27         None\n",
       "28         None\n",
       "29         None\n",
       "           ... \n",
       "1753459    None\n",
       "1753460    None\n",
       "1753461    None\n",
       "1753462    None\n",
       "1753463    None\n",
       "1753464    None\n",
       "1753465    None\n",
       "1753466    None\n",
       "1753467    None\n",
       "1753468    None\n",
       "1753469    None\n",
       "1753470    None\n",
       "1753471    None\n",
       "1753472    None\n",
       "1753473    None\n",
       "1753474    None\n",
       "1753475    None\n",
       "1753476    None\n",
       "1753477    None\n",
       "1753478    None\n",
       "1753479    None\n",
       "1753480    None\n",
       "1753481    None\n",
       "1753482    None\n",
       "1753483    None\n",
       "1753484    None\n",
       "1753485    None\n",
       "1753486    None\n",
       "1753487    None\n",
       "1753488    None\n",
       "Name: TRANSACTION_DT, dtype: object"
      ]
     },
     "execution_count": 9,
     "metadata": {},
     "output_type": "execute_result"
    }
   ],
   "source": [
    "opExp_df.TRANSACTION_DT.apply(find_abnormal_months)"
   ]
  },
  {
   "cell_type": "code",
   "execution_count": 10,
   "metadata": {},
   "outputs": [
    {
     "name": "stdout",
     "output_type": "stream",
     "text": [
      "nan\n",
      "nan\n",
      "nan\n",
      "nan\n",
      "nan\n",
      "nan\n",
      "nan\n",
      "nan\n",
      "nan\n",
      "nan\n",
      "nan\n",
      "nan\n",
      "nan\n",
      "nan\n",
      "nan\n",
      "nan\n",
      "nan\n",
      "nan\n",
      "nan\n",
      "nan\n",
      "nan\n",
      "nan\n",
      "nan\n",
      "nan\n",
      "nan\n",
      "nan\n",
      "nan\n",
      "nan\n",
      "nan\n",
      "nan\n",
      "nan\n",
      "nan\n",
      "nan\n",
      "nan\n",
      "nan\n",
      "nan\n",
      "nan\n",
      "nan\n",
      "nan\n",
      "nan\n",
      "nan\n",
      "nan\n",
      "nan\n",
      "nan\n",
      "nan\n",
      "nan\n",
      "nan\n",
      "nan\n",
      "nan\n",
      "nan\n",
      "nan\n",
      "nan\n",
      "nan\n",
      "nan\n",
      "nan\n",
      "nan\n",
      "nan\n",
      "nan\n",
      "nan\n",
      "nan\n",
      "nan\n",
      "nan\n",
      "nan\n",
      "nan\n",
      "nan\n",
      "nan\n",
      "nan\n",
      "nan\n",
      "nan\n",
      "nan\n",
      "nan\n",
      "nan\n",
      "nan\n",
      "nan\n",
      "nan\n",
      "nan\n",
      "nan\n",
      "nan\n",
      "nan\n",
      "nan\n",
      "nan\n",
      "nan\n",
      "nan\n",
      "nan\n",
      "nan\n",
      "nan\n",
      "nan\n",
      "nan\n",
      "nan\n",
      "nan\n",
      "nan\n",
      "nan\n",
      "nan\n",
      "nan\n",
      "nan\n",
      "nan\n",
      "nan\n",
      "nan\n",
      "nan\n",
      "nan\n",
      "nan\n",
      "nan\n",
      "nan\n",
      "nan\n",
      "nan\n",
      "nan\n",
      "nan\n",
      "nan\n",
      "nan\n",
      "nan\n",
      "nan\n",
      "nan\n",
      "nan\n",
      "nan\n",
      "nan\n",
      "nan\n",
      "nan\n",
      "nan\n",
      "nan\n",
      "nan\n",
      "nan\n",
      "nan\n",
      "nan\n",
      "nan\n",
      "nan\n",
      "nan\n",
      "nan\n",
      "nan\n",
      "nan\n",
      "nan\n",
      "nan\n",
      "nan\n",
      "nan\n",
      "nan\n",
      "nan\n",
      "nan\n",
      "nan\n",
      "nan\n",
      "nan\n",
      "nan\n",
      "nan\n",
      "nan\n",
      "nan\n",
      "nan\n",
      "nan\n",
      "nan\n"
     ]
    },
    {
     "data": {
      "text/plain": [
       "0          None\n",
       "1          None\n",
       "2          None\n",
       "3          None\n",
       "4          None\n",
       "5          None\n",
       "6          None\n",
       "7          None\n",
       "8          None\n",
       "9          None\n",
       "10         None\n",
       "11         None\n",
       "12         None\n",
       "13         None\n",
       "14         None\n",
       "15         None\n",
       "16         None\n",
       "17         None\n",
       "18         None\n",
       "19         None\n",
       "20         None\n",
       "21         None\n",
       "22         None\n",
       "23         None\n",
       "24         None\n",
       "25         None\n",
       "26         None\n",
       "27         None\n",
       "28         None\n",
       "29         None\n",
       "           ... \n",
       "1753459    None\n",
       "1753460    None\n",
       "1753461    None\n",
       "1753462    None\n",
       "1753463    None\n",
       "1753464    None\n",
       "1753465    None\n",
       "1753466    None\n",
       "1753467    None\n",
       "1753468    None\n",
       "1753469    None\n",
       "1753470    None\n",
       "1753471    None\n",
       "1753472    None\n",
       "1753473    None\n",
       "1753474    None\n",
       "1753475    None\n",
       "1753476    None\n",
       "1753477    None\n",
       "1753478    None\n",
       "1753479    None\n",
       "1753480    None\n",
       "1753481    None\n",
       "1753482    None\n",
       "1753483    None\n",
       "1753484    None\n",
       "1753485    None\n",
       "1753486    None\n",
       "1753487    None\n",
       "1753488    None\n",
       "Name: TRANSACTION_DT, dtype: object"
      ]
     },
     "execution_count": 10,
     "metadata": {},
     "output_type": "execute_result"
    }
   ],
   "source": [
    "opExp_df.TRANSACTION_DT.apply(find_abnormal_days)"
   ]
  },
  {
   "cell_type": "markdown",
   "metadata": {},
   "source": [
    "##### As we can see from the above outputs, all the None NaN dates are in the correct string representation, which means we can go ahead to perform calculations and manipulations based on the dates of the data"
   ]
  },
  {
   "cell_type": "code",
   "execution_count": 11,
   "metadata": {
    "collapsed": true
   },
   "outputs": [],
   "source": [
    "# create a fucntion that finds the month value in the \"TRANSACTION_DT\" column to create a new column 'Transaction_month'\n",
    "# containing only the months for later grouping.\n",
    "def find_month(dates):\n",
    "    \"\"\"\n",
    "    Find the month value in the column name with date values passed into it.\n",
    "    The date values are in a string format of \"mm/dd/yyyy\"\n",
    "    To extract the month, the function uses string splitting of its index\n",
    "    \n",
    "    :param dates: Pandas Series with values of the date\n",
    "    :return dates[0:2]: String slicing that represents the month value\n",
    "    \"\"\"\n",
    "    return dates[0:2]"
   ]
  },
  {
   "cell_type": "code",
   "execution_count": 12,
   "metadata": {
    "collapsed": true
   },
   "outputs": [],
   "source": [
    "# Drop the rows of data that does not have any data regarding transaction date with drapna()\n",
    "# then apply the 'find_month' function to all the row data under the TRANSACTION_DT column to return the month values\n",
    "# then save those values into a new column 'Transaction_month' in the opExp_df dataframe\n",
    "opExp_df[\"Transaction_month\"] = opExp_df.TRANSACTION_DT.dropna().apply(find_month)"
   ]
  },
  {
   "cell_type": "code",
   "execution_count": 13,
   "metadata": {},
   "outputs": [
    {
     "data": {
      "text/html": [
       "<div>\n",
       "<table border=\"1\" class=\"dataframe\">\n",
       "  <thead>\n",
       "    <tr style=\"text-align: right;\">\n",
       "      <th></th>\n",
       "      <th>CMTE_ID</th>\n",
       "      <th>TRANSACTION_DT</th>\n",
       "      <th>TRANSACTION_AMT</th>\n",
       "      <th>Transaction_month</th>\n",
       "    </tr>\n",
       "  </thead>\n",
       "  <tbody>\n",
       "    <tr>\n",
       "      <th>0</th>\n",
       "      <td>C00004606</td>\n",
       "      <td>03/13/2015</td>\n",
       "      <td>600.00</td>\n",
       "      <td>03</td>\n",
       "    </tr>\n",
       "    <tr>\n",
       "      <th>1</th>\n",
       "      <td>C00004606</td>\n",
       "      <td>03/27/2015</td>\n",
       "      <td>982.80</td>\n",
       "      <td>03</td>\n",
       "    </tr>\n",
       "    <tr>\n",
       "      <th>2</th>\n",
       "      <td>C00378067</td>\n",
       "      <td>03/31/2015</td>\n",
       "      <td>233.96</td>\n",
       "      <td>03</td>\n",
       "    </tr>\n",
       "    <tr>\n",
       "      <th>3</th>\n",
       "      <td>C00010470</td>\n",
       "      <td>03/31/2015</td>\n",
       "      <td>269.37</td>\n",
       "      <td>03</td>\n",
       "    </tr>\n",
       "    <tr>\n",
       "      <th>4</th>\n",
       "      <td>C00465211</td>\n",
       "      <td>03/01/2015</td>\n",
       "      <td>750.00</td>\n",
       "      <td>03</td>\n",
       "    </tr>\n",
       "  </tbody>\n",
       "</table>\n",
       "</div>"
      ],
      "text/plain": [
       "     CMTE_ID TRANSACTION_DT  TRANSACTION_AMT Transaction_month\n",
       "0  C00004606     03/13/2015           600.00                03\n",
       "1  C00004606     03/27/2015           982.80                03\n",
       "2  C00378067     03/31/2015           233.96                03\n",
       "3  C00010470     03/31/2015           269.37                03\n",
       "4  C00465211     03/01/2015           750.00                03"
      ]
     },
     "execution_count": 13,
     "metadata": {},
     "output_type": "execute_result"
    }
   ],
   "source": [
    "# A look at the data frame\n",
    "opExp_df.head()"
   ]
  },
  {
   "cell_type": "code",
   "execution_count": 14,
   "metadata": {
    "collapsed": true
   },
   "outputs": [],
   "source": [
    "# group the data with the two columns \"CMTE_ID\" and \"Transaction_month\", and save the pandas groupby object to the\n",
    "# variable op_permonth_df\n",
    "op_permonth_df = opExp_df.groupby(['CMTE_ID',\"Transaction_month\"])"
   ]
  },
  {
   "cell_type": "code",
   "execution_count": 15,
   "metadata": {
    "collapsed": true
   },
   "outputs": [],
   "source": [
    "# Then sum up all the Transaction amounts in the TRANSACTION_AMT column to \n",
    "# calculate the Total Expenditures by all committees per month.\n",
    "Total_OPMonth_CMTE = op_permonth_df.TRANSACTION_AMT.sum()"
   ]
  },
  {
   "cell_type": "code",
   "execution_count": 16,
   "metadata": {},
   "outputs": [
    {
     "data": {
      "text/plain": [
       "CMTE_ID    Transaction_month\n",
       "C00000422  01                    3761.26\n",
       "           02                    4518.86\n",
       "           03                    3236.41\n",
       "           04                    2989.63\n",
       "           05                    3392.54\n",
       "           06                    5549.27\n",
       "           07                    2046.76\n",
       "           08                    1920.18\n",
       "           09                    2148.84\n",
       "           10                    2531.75\n",
       "           11                    3908.76\n",
       "           12                    2807.47\n",
       "C00000489  10                    6000.00\n",
       "C00000638  10                     557.11\n",
       "           11                     261.03\n",
       "C00000729  01                     701.72\n",
       "           02                     718.13\n",
       "           03                     415.52\n",
       "           04                     582.49\n",
       "           05                    1542.51\n",
       "           06                     582.10\n",
       "           07                    1875.13\n",
       "           08                    1126.29\n",
       "           09                    4230.86\n",
       "           10                   24013.98\n",
       "           11                   14565.48\n",
       "           12                     797.90\n",
       "C00000885  08                   44283.85\n",
       "C00000901  01                    3074.37\n",
       "           02                    6730.96\n",
       "                                  ...   \n",
       "C00629444  11                   14368.00\n",
       "           12                    8368.72\n",
       "C00629451  12                   16148.33\n",
       "C00629477  12                    4177.02\n",
       "C00629576  12                     790.00\n",
       "C00629659  12                    8518.74\n",
       "C00629675  12                    1875.22\n",
       "C00629691  12                    3086.22\n",
       "C00629774  12                    3932.95\n",
       "C00629790  12                    6384.45\n",
       "C00629857  12                   63219.63\n",
       "C00629865  12                    2369.07\n",
       "C00629949  12                     805.69\n",
       "C00630061  12                    2489.01\n",
       "C00630129  12                    4935.34\n",
       "C00631200  12                    1500.00\n",
       "C00632570  12                   39332.46\n",
       "C00636118  10                     117.02\n",
       "C99002396  01                     525.00\n",
       "           02                    1409.94\n",
       "           03                    3064.18\n",
       "           04                    2011.66\n",
       "           05                    1620.85\n",
       "           06                     953.88\n",
       "           07                    1831.89\n",
       "           08                     765.43\n",
       "           09                    1060.88\n",
       "           10                    1554.13\n",
       "           11                     903.36\n",
       "           12                     839.70\n",
       "Name: TRANSACTION_AMT, dtype: float64"
      ]
     },
     "execution_count": 16,
     "metadata": {},
     "output_type": "execute_result"
    }
   ],
   "source": [
    "# Outputs of Total Expenditures by all committees per month.\n",
    "Total_OPMonth_CMTE"
   ]
  },
  {
   "cell_type": "markdown",
   "metadata": {
    "collapsed": true
   },
   "source": [
    "#   "
   ]
  },
  {
   "cell_type": "markdown",
   "metadata": {
    "collapsed": true
   },
   "source": [
    "# Query 2:\n",
    "#### List top 10 cities by total individual donations. Try creating a visual barchart with matplotlib."
   ]
  },
  {
   "cell_type": "code",
   "execution_count": 17,
   "metadata": {
    "collapsed": true
   },
   "outputs": [],
   "source": [
    "individual = \"./individuals/itcont.txt\""
   ]
  },
  {
   "cell_type": "code",
   "execution_count": 18,
   "metadata": {
    "collapsed": true
   },
   "outputs": [],
   "source": [
    "individual_hd = \"./individuals/indiv_header_file.csv\""
   ]
  },
  {
   "cell_type": "code",
   "execution_count": 19,
   "metadata": {
    "collapsed": true
   },
   "outputs": [],
   "source": [
    "# To list top 10 cities by total individual donations we only need the donation amounts and city from the data\n",
    "indiv_df_top10 = CSV_DF(individual,individual_hd, usecols=['TRANSACTION_AMT','CITY'],dtype = {\"TRANSACTION_AMT\":float})"
   ]
  },
  {
   "cell_type": "code",
   "execution_count": 20,
   "metadata": {},
   "outputs": [
    {
     "data": {
      "text/html": [
       "<div>\n",
       "<table border=\"1\" class=\"dataframe\">\n",
       "  <thead>\n",
       "    <tr style=\"text-align: right;\">\n",
       "      <th></th>\n",
       "      <th>TRANSACTION_AMT</th>\n",
       "    </tr>\n",
       "    <tr>\n",
       "      <th>CITY</th>\n",
       "      <th></th>\n",
       "    </tr>\n",
       "  </thead>\n",
       "  <tbody>\n",
       "    <tr>\n",
       "      <th>BATON ROUGE</th>\n",
       "      <td>2</td>\n",
       "    </tr>\n",
       "    <tr>\n",
       "      <th>CHULA VISTA</th>\n",
       "      <td>4</td>\n",
       "    </tr>\n",
       "    <tr>\n",
       "      <th>COLORADO SPRINGS</th>\n",
       "      <td>16</td>\n",
       "    </tr>\n",
       "    <tr>\n",
       "      <th>EAST CHICAGO</th>\n",
       "      <td>7</td>\n",
       "    </tr>\n",
       "    <tr>\n",
       "      <th>FORT BENNING</th>\n",
       "      <td>3</td>\n",
       "    </tr>\n",
       "  </tbody>\n",
       "</table>\n",
       "</div>"
      ],
      "text/plain": [
       "                   TRANSACTION_AMT\n",
       "CITY                              \n",
       " BATON ROUGE                     2\n",
       " CHULA VISTA                     4\n",
       " COLORADO SPRINGS               16\n",
       " EAST CHICAGO                    7\n",
       " FORT BENNING                    3"
      ]
     },
     "execution_count": 20,
     "metadata": {},
     "output_type": "execute_result"
    }
   ],
   "source": [
    "# Group with \"CITY\" column then count how much transactions there were for each group of city then print out the \n",
    "# datafram for checking\n",
    "indiv_df_top10.groupby([\"CITY\"]).count().head()"
   ]
  },
  {
   "cell_type": "code",
   "execution_count": 21,
   "metadata": {
    "collapsed": true
   },
   "outputs": [],
   "source": [
    "# Create a copy of the groupby object with the number of counts of Transaction for each city\n",
    "# Then sort the number of counts for each city under the TRANSACTION_AMT in decending order\n",
    "copy = indiv_df_top10.groupby([\"CITY\"]).count()\n",
    "copy.sort_values([\"TRANSACTION_AMT\"], axis=0, ascending=False, inplace=True)"
   ]
  },
  {
   "cell_type": "code",
   "execution_count": 22,
   "metadata": {},
   "outputs": [
    {
     "data": {
      "text/html": [
       "<div>\n",
       "<table border=\"1\" class=\"dataframe\">\n",
       "  <thead>\n",
       "    <tr style=\"text-align: right;\">\n",
       "      <th></th>\n",
       "      <th>TRANSACTION_AMT</th>\n",
       "    </tr>\n",
       "    <tr>\n",
       "      <th>CITY</th>\n",
       "      <th></th>\n",
       "    </tr>\n",
       "  </thead>\n",
       "  <tbody>\n",
       "    <tr>\n",
       "      <th>NEW YORK</th>\n",
       "      <td>592464</td>\n",
       "    </tr>\n",
       "    <tr>\n",
       "      <th>WASHINGTON</th>\n",
       "      <td>402456</td>\n",
       "    </tr>\n",
       "    <tr>\n",
       "      <th>LOS ANGELES</th>\n",
       "      <td>232119</td>\n",
       "    </tr>\n",
       "    <tr>\n",
       "      <th>CHICAGO</th>\n",
       "      <td>215756</td>\n",
       "    </tr>\n",
       "    <tr>\n",
       "      <th>HOUSTON</th>\n",
       "      <td>215425</td>\n",
       "    </tr>\n",
       "    <tr>\n",
       "      <th>SAN FRANCISCO</th>\n",
       "      <td>212346</td>\n",
       "    </tr>\n",
       "    <tr>\n",
       "      <th>PHILADELPHIA</th>\n",
       "      <td>193121</td>\n",
       "    </tr>\n",
       "    <tr>\n",
       "      <th>SEATTLE</th>\n",
       "      <td>192327</td>\n",
       "    </tr>\n",
       "    <tr>\n",
       "      <th>ARLINGTON</th>\n",
       "      <td>178155</td>\n",
       "    </tr>\n",
       "    <tr>\n",
       "      <th>BROOKLYN</th>\n",
       "      <td>152771</td>\n",
       "    </tr>\n",
       "  </tbody>\n",
       "</table>\n",
       "</div>"
      ],
      "text/plain": [
       "               TRANSACTION_AMT\n",
       "CITY                          \n",
       "NEW YORK                592464\n",
       "WASHINGTON              402456\n",
       "LOS ANGELES             232119\n",
       "CHICAGO                 215756\n",
       "HOUSTON                 215425\n",
       "SAN FRANCISCO           212346\n",
       "PHILADELPHIA            193121\n",
       "SEATTLE                 192327\n",
       "ARLINGTON               178155\n",
       "BROOKLYN                152771"
      ]
     },
     "execution_count": 22,
     "metadata": {},
     "output_type": "execute_result"
    }
   ],
   "source": [
    "# print out the top 10 data in the decending ordered dataframe. \n",
    "# Which is also the top 10 cities by total individual donations \n",
    "copy.head(10)"
   ]
  },
  {
   "cell_type": "markdown",
   "metadata": {},
   "source": [
    "##### Plotting with matplotlib"
   ]
  },
  {
   "cell_type": "code",
   "execution_count": 23,
   "metadata": {},
   "outputs": [
    {
     "data": {
      "text/plain": [
       "<matplotlib.legend.Legend at 0x12f02dba8>"
      ]
     },
     "execution_count": 23,
     "metadata": {},
     "output_type": "execute_result"
    },
    {
     "data": {
      "image/png": "[encoded data removed]",
      "text/plain": [
       "<matplotlib.figure.Figure at 0x14b7e5fd0>"
      ]
     },
     "metadata": {},
     "output_type": "display_data"
    }
   ],
   "source": [
    "# Get the list of city names\n",
    "city_names = list(copy.head(10).index)\n",
    "# a range of numbers that corresponds to the number of cities for the x axis of the bar plot\n",
    "x = range(len(city_names))\n",
    "# list of transaction amount for each top 10 city for the y axis data of the bar plot\n",
    "y = list(copy.head(10).TRANSACTION_AMT)\n",
    "\n",
    "# For better visualization of different cities, create a list of 10 colors for each city\n",
    "colors = [\"r\",\"b\",\"y\",\"white\",\"g\",\"purple\",\"brown\",\"pink\",\"gray\",\"orange\"]\n",
    "\n",
    "# loop through the numbers within the variable x representing the index of the x, y, and colors list to plot the \n",
    "# bar plots, assign colors and labels of city's names to each different city's bar on the plot\n",
    "# as well as adding the accurate values vertically on top of each bar in the plot\n",
    "for index in x:\n",
    "    plt.bar(x[index], y[index], color = colors[index], label = city_names[index], align = \"center\")\n",
    "    plt.text(x[index], y[index], str(y[index]), rotation = \"vertical\")\n",
    "\n",
    "\n",
    "plt.title(\"Top 10 Total Cities by Individual Donations\")\n",
    "# Print out the city names as the x labels, because the names of cities are too long, show the vertically to avoid\n",
    "# squishing together\n",
    "plt.xticks(range(len(list(copy.head(10).index))), list(copy.head(10).index), rotation=\"vertical\" )\n",
    "# Add the legend for a better readability and put the legend on the right side of the plot\n",
    "plt.legend(loc='center left', bbox_to_anchor=(1, 0.5))"
   ]
  },
  {
   "cell_type": "markdown",
   "metadata": {},
   "source": [
    "#  \n",
    "# Query 3:\n",
    "#####  Find people who donated over 5000 directly to a Senate or House candidate who's not even in their own state, and show the details. \n"
   ]
  },
  {
   "cell_type": "code",
   "execution_count": 24,
   "metadata": {
    "collapsed": true
   },
   "outputs": [],
   "source": [
    "# File location of the committee data file and header file.\n",
    "cmte = \"./Committee/cm.txt\"\n",
    "cmte_header = \"./Committee/cm_header_file.csv\""
   ]
  },
  {
   "cell_type": "code",
   "execution_count": 25,
   "metadata": {
    "collapsed": true
   },
   "outputs": [],
   "source": [
    "# Read in the committee file, only need to use the committee state (CMTE_ST), committee id (CMTE_ID) and \n",
    "# committee type (CMTE_TP) for knowing if it is a Senate or House.\n",
    "cmte_df = CSV_DF(cmte, cmte_header, usecols=['CMTE_ID', 'CMTE_ST','CMTE_TP'],\n",
    "                 dtype = {\"CMTE_ST\":str, \"CMTE_ID\":str, \"CMTE_TP\":str})"
   ]
  },
  {
   "cell_type": "code",
   "execution_count": 26,
   "metadata": {
    "collapsed": true
   },
   "outputs": [],
   "source": [
    "# set the committee id column \"CMTE_ID\" as row index for the cmteid_df data frame for later joining\n",
    "cmteid_df = cmte_df.set_index([\"CMTE_ID\"])"
   ]
  },
  {
   "cell_type": "code",
   "execution_count": 27,
   "metadata": {
    "collapsed": true
   },
   "outputs": [],
   "source": [
    "# Read in the individule donation data, this time we only need the transaction amount (TRANSACTION_AMT), \n",
    "# committee id (CMTE_ID) and the state (STATE) of the donor.\n",
    "indiv_cmte_df =  CSV_DF(individual, individual_hd, usecols=['CMTE_ID', 'NAME','STATE', 'TRANSACTION_AMT'],\n",
    "                            dtype = {\"TRANSACTION_AMT\":float, \"CMTE_ID\":str, \"STATE\":str})"
   ]
  },
  {
   "cell_type": "code",
   "execution_count": 28,
   "metadata": {},
   "outputs": [
    {
     "data": {
      "text/html": [
       "<div>\n",
       "<table border=\"1\" class=\"dataframe\">\n",
       "  <thead>\n",
       "    <tr style=\"text-align: right;\">\n",
       "      <th></th>\n",
       "      <th>CMTE_ID</th>\n",
       "      <th>NAME</th>\n",
       "      <th>STATE</th>\n",
       "      <th>TRANSACTION_AMT</th>\n",
       "    </tr>\n",
       "  </thead>\n",
       "  <tbody>\n",
       "    <tr>\n",
       "      <th>0</th>\n",
       "      <td>C00004606</td>\n",
       "      <td>ARNOLD, ROBERT</td>\n",
       "      <td>KS</td>\n",
       "      <td>1000.0</td>\n",
       "    </tr>\n",
       "    <tr>\n",
       "      <th>1</th>\n",
       "      <td>C00004606</td>\n",
       "      <td>BICKLE, DON</td>\n",
       "      <td>KS</td>\n",
       "      <td>1000.0</td>\n",
       "    </tr>\n",
       "    <tr>\n",
       "      <th>2</th>\n",
       "      <td>C00004606</td>\n",
       "      <td>ROSSMAN, RICHARD</td>\n",
       "      <td>KS</td>\n",
       "      <td>250.0</td>\n",
       "    </tr>\n",
       "    <tr>\n",
       "      <th>3</th>\n",
       "      <td>C00452383</td>\n",
       "      <td>LLEWELLYN, CHARLES</td>\n",
       "      <td>MD</td>\n",
       "      <td>500.0</td>\n",
       "    </tr>\n",
       "    <tr>\n",
       "      <th>4</th>\n",
       "      <td>C00452383</td>\n",
       "      <td>TYNES, TIMOTHY MR.</td>\n",
       "      <td>FL</td>\n",
       "      <td>250.0</td>\n",
       "    </tr>\n",
       "  </tbody>\n",
       "</table>\n",
       "</div>"
      ],
      "text/plain": [
       "     CMTE_ID                NAME STATE  TRANSACTION_AMT\n",
       "0  C00004606      ARNOLD, ROBERT    KS           1000.0\n",
       "1  C00004606         BICKLE, DON    KS           1000.0\n",
       "2  C00004606    ROSSMAN, RICHARD    KS            250.0\n",
       "3  C00452383  LLEWELLYN, CHARLES    MD            500.0\n",
       "4  C00452383  TYNES, TIMOTHY MR.    FL            250.0"
      ]
     },
     "execution_count": 28,
     "metadata": {},
     "output_type": "execute_result"
    }
   ],
   "source": [
    "# print out the indiv_cmte_df dataframe for checking.\n",
    "indiv_cmte_df.head()"
   ]
  },
  {
   "cell_type": "code",
   "execution_count": 29,
   "metadata": {
    "collapsed": true
   },
   "outputs": [],
   "source": [
    "# set the committee id column \"CMTE_ID\" as row index for the indiv_cmteid_df data frame for later joining.\n",
    "indiv_cmteid_df = indiv_cmte_df.set_index(['CMTE_ID'])"
   ]
  },
  {
   "cell_type": "code",
   "execution_count": 30,
   "metadata": {
    "collapsed": true
   },
   "outputs": [],
   "source": [
    "# perform outer join on the indiv_cmteid_df dataframe with the cmteid_df dataframe, and getting rid of all NaN values\n",
    "indiv_cmteid_join_pd = indiv_cmteid_df.join(cmteid_df, how = 'outer', sort=False).dropna()"
   ]
  },
  {
   "cell_type": "code",
   "execution_count": 31,
   "metadata": {},
   "outputs": [
    {
     "data": {
      "text/html": [
       "<div>\n",
       "<table border=\"1\" class=\"dataframe\">\n",
       "  <thead>\n",
       "    <tr style=\"text-align: right;\">\n",
       "      <th></th>\n",
       "      <th>NAME</th>\n",
       "      <th>STATE</th>\n",
       "      <th>TRANSACTION_AMT</th>\n",
       "      <th>CMTE_ST</th>\n",
       "      <th>CMTE_TP</th>\n",
       "    </tr>\n",
       "    <tr>\n",
       "      <th>CMTE_ID</th>\n",
       "      <th></th>\n",
       "      <th></th>\n",
       "      <th></th>\n",
       "      <th></th>\n",
       "      <th></th>\n",
       "    </tr>\n",
       "  </thead>\n",
       "  <tbody>\n",
       "    <tr>\n",
       "      <th>C00196774</th>\n",
       "      <td>SCHUSTER, ELAINE</td>\n",
       "      <td>FL</td>\n",
       "      <td>5400.0</td>\n",
       "      <td>MA</td>\n",
       "      <td>S</td>\n",
       "    </tr>\n",
       "    <tr>\n",
       "      <th>C00196774</th>\n",
       "      <td>SUSSMAN, S. DONALD</td>\n",
       "      <td>FL</td>\n",
       "      <td>5400.0</td>\n",
       "      <td>MA</td>\n",
       "      <td>S</td>\n",
       "    </tr>\n",
       "    <tr>\n",
       "      <th>C00196774</th>\n",
       "      <td>PORTNOY, DIANE</td>\n",
       "      <td>NH</td>\n",
       "      <td>5400.0</td>\n",
       "      <td>MA</td>\n",
       "      <td>S</td>\n",
       "    </tr>\n",
       "    <tr>\n",
       "      <th>C00196774</th>\n",
       "      <td>WALDRON, GERARD J</td>\n",
       "      <td>VA</td>\n",
       "      <td>5400.0</td>\n",
       "      <td>MA</td>\n",
       "      <td>S</td>\n",
       "    </tr>\n",
       "    <tr>\n",
       "      <th>C00196774</th>\n",
       "      <td>JANKOWSKY, CAROL</td>\n",
       "      <td>VA</td>\n",
       "      <td>5400.0</td>\n",
       "      <td>MA</td>\n",
       "      <td>S</td>\n",
       "    </tr>\n",
       "  </tbody>\n",
       "</table>\n",
       "</div>"
      ],
      "text/plain": [
       "                         NAME STATE  TRANSACTION_AMT CMTE_ST CMTE_TP\n",
       "CMTE_ID                                                             \n",
       "C00196774    SCHUSTER, ELAINE    FL           5400.0      MA       S\n",
       "C00196774  SUSSMAN, S. DONALD    FL           5400.0      MA       S\n",
       "C00196774      PORTNOY, DIANE    NH           5400.0      MA       S\n",
       "C00196774   WALDRON, GERARD J    VA           5400.0      MA       S\n",
       "C00196774    JANKOWSKY, CAROL    VA           5400.0      MA       S"
      ]
     },
     "execution_count": 31,
     "metadata": {},
     "output_type": "execute_result"
    }
   ],
   "source": [
    "# Perform boolean subsetting of the joined dataframe to find the values where the state of the donor does not equal to \n",
    "# committee's state and the transaction amounts are larger than 5000 where the type of the committee the donor donated\n",
    "# to is either Senate (S) or House (H) then save this new finding dataframe to the 'fits' variable.\n",
    "fits = indiv_cmteid_join_pd[(indiv_cmteid_join_pd[\"STATE\"] != indiv_cmteid_join_pd[\"CMTE_ST\"]) & \n",
    "                            (indiv_cmteid_join_pd[\"TRANSACTION_AMT\"] > 5000) & \n",
    "                            ((indiv_cmteid_join_pd[\"CMTE_TP\"] == \"H\") | \n",
    "                            (indiv_cmteid_join_pd[\"CMTE_TP\"] == \"S\"))]\n",
    "# Print out partial data of the fits datframe to check the outcomes\n",
    "fits.head()"
   ]
  },
  {
   "cell_type": "code",
   "execution_count": 32,
   "metadata": {
    "scrolled": true
   },
   "outputs": [
    {
     "data": {
      "text/plain": [
       "array(['SCHUSTER, ELAINE', 'SUSSMAN, S. DONALD', 'PORTNOY, DIANE', ...,\n",
       "       'BUCKLEY, WALTER W JR', 'KINGDON, ANLA CHENG', 'KINGDON, MARK'], dtype=object)"
      ]
     },
     "execution_count": 32,
     "metadata": {},
     "output_type": "execute_result"
    }
   ],
   "source": [
    "# Because there may be someone did this type of donations more than once, thus we find the unique names of the donors\n",
    "# (the \"NAME\" column in the fits dataframe) to represent the names of the donors who donated over 5000 directly \n",
    "# to a Senate or House candidate who's not even in their own state.\n",
    "fits[\"NAME\"].unique()"
   ]
  },
  {
   "cell_type": "code",
   "execution_count": 33,
   "metadata": {},
   "outputs": [
    {
     "data": {
      "text/plain": [
       "4219"
      ]
     },
     "execution_count": 33,
     "metadata": {},
     "output_type": "execute_result"
    }
   ],
   "source": [
    "len(fits.index)"
   ]
  },
  {
   "cell_type": "code",
   "execution_count": 34,
   "metadata": {},
   "outputs": [
    {
     "data": {
      "text/plain": [
       "3130"
      ]
     },
     "execution_count": 34,
     "metadata": {},
     "output_type": "execute_result"
    }
   ],
   "source": [
    "# The total unique names of those who donated over 5000 directly to a Senate or House candidate \n",
    "# who's not even in their own state.\n",
    "len(fits[\"NAME\"].unique())"
   ]
  },
  {
   "cell_type": "code",
   "execution_count": 35,
   "metadata": {},
   "outputs": [
    {
     "data": {
      "text/html": [
       "<div>\n",
       "<table border=\"1\" class=\"dataframe\">\n",
       "  <thead>\n",
       "    <tr style=\"text-align: right;\">\n",
       "      <th></th>\n",
       "      <th>TRANSACTION_AMT</th>\n",
       "    </tr>\n",
       "  </thead>\n",
       "  <tbody>\n",
       "    <tr>\n",
       "      <th>count</th>\n",
       "      <td>4219.000000</td>\n",
       "    </tr>\n",
       "    <tr>\n",
       "      <th>mean</th>\n",
       "      <td>6417.859919</td>\n",
       "    </tr>\n",
       "    <tr>\n",
       "      <th>std</th>\n",
       "      <td>3974.317935</td>\n",
       "    </tr>\n",
       "    <tr>\n",
       "      <th>min</th>\n",
       "      <td>5050.000000</td>\n",
       "    </tr>\n",
       "    <tr>\n",
       "      <th>25%</th>\n",
       "      <td>5400.000000</td>\n",
       "    </tr>\n",
       "    <tr>\n",
       "      <th>50%</th>\n",
       "      <td>5400.000000</td>\n",
       "    </tr>\n",
       "    <tr>\n",
       "      <th>75%</th>\n",
       "      <td>5400.000000</td>\n",
       "    </tr>\n",
       "    <tr>\n",
       "      <th>max</th>\n",
       "      <td>150000.000000</td>\n",
       "    </tr>\n",
       "  </tbody>\n",
       "</table>\n",
       "</div>"
      ],
      "text/plain": [
       "       TRANSACTION_AMT\n",
       "count      4219.000000\n",
       "mean       6417.859919\n",
       "std        3974.317935\n",
       "min        5050.000000\n",
       "25%        5400.000000\n",
       "50%        5400.000000\n",
       "75%        5400.000000\n",
       "max      150000.000000"
      ]
     },
     "execution_count": 35,
     "metadata": {},
     "output_type": "execute_result"
    }
   ],
   "source": [
    "# The statistical discription frame of the transaction amount of those who donated over 5000 directly to a Senate or\n",
    "# House candidate who's not even in their own state.\n",
    "fits.describe()"
   ]
  },
  {
   "cell_type": "markdown",
   "metadata": {},
   "source": [
    "#  \n",
    "# Query 4:\n",
    "##### Find the total individual donations from different committee's Interest Group Category to reflect how much and what groups of individuals in the US are willing to support the committees that are associate with them."
   ]
  },
  {
   "cell_type": "code",
   "execution_count": 36,
   "metadata": {
    "collapsed": true
   },
   "outputs": [],
   "source": [
    "# Read in the Transaction amount (TRANSACTION_AMT) and committee ID (CMTE_ID) from the individual donation's data\n",
    "indivDf = CSV_DF(individual, individual_hd, usecols=['CMTE_ID', 'TRANSACTION_AMT'], \n",
    "                 dtype = {\"TRANSACTION_AMT\":float, \"CMTE_ID\":str})"
   ]
  },
  {
   "cell_type": "code",
   "execution_count": 37,
   "metadata": {
    "collapsed": true,
    "scrolled": true
   },
   "outputs": [],
   "source": [
    "# Set the committee ID (CMTE_ID) as row index for later joining\n",
    "indivDf = indivDf.set_index(['CMTE_ID'])"
   ]
  },
  {
   "cell_type": "code",
   "execution_count": 38,
   "metadata": {
    "collapsed": true
   },
   "outputs": [],
   "source": [
    "# Read in the committee ID (CMTE_ID) and Organization Interest Group Category of the committee (ORG_TP)\n",
    "cmteDf = CSV_DF(cmte, cmte_header, usecols=['CMTE_ID', 'ORG_TP'], dtype = {\"CMTE_ID\":str})"
   ]
  },
  {
   "cell_type": "code",
   "execution_count": 39,
   "metadata": {
    "collapsed": true
   },
   "outputs": [],
   "source": [
    "# Because there are group categories that dont exist with NaN values, thus we replace those values with the string\n",
    "# value \"Other\" then set the committee ID (CMTE_ID) as row index for later joining\n",
    "cmteDf = cmteDf.replace(np.NaN, \"Other\")\n",
    "cmteDf = cmteDf.set_index([\"CMTE_ID\"])"
   ]
  },
  {
   "cell_type": "code",
   "execution_count": 40,
   "metadata": {
    "collapsed": true
   },
   "outputs": [],
   "source": [
    "# Perform outer join on the two dataframes\n",
    "cmteIndivDf = cmteDf.join(indivDf, how = \"outer\")"
   ]
  },
  {
   "cell_type": "code",
   "execution_count": 41,
   "metadata": {},
   "outputs": [
    {
     "data": {
      "text/html": [
       "<div>\n",
       "<table border=\"1\" class=\"dataframe\">\n",
       "  <thead>\n",
       "    <tr style=\"text-align: right;\">\n",
       "      <th></th>\n",
       "      <th>TRANSACTION_AMT</th>\n",
       "    </tr>\n",
       "    <tr>\n",
       "      <th>ORG_TP</th>\n",
       "      <th></th>\n",
       "    </tr>\n",
       "  </thead>\n",
       "  <tbody>\n",
       "    <tr>\n",
       "      <th>Other</th>\n",
       "      <td>5.539642e+09</td>\n",
       "    </tr>\n",
       "    <tr>\n",
       "      <th>C</th>\n",
       "      <td>2.862882e+08</td>\n",
       "    </tr>\n",
       "    <tr>\n",
       "      <th>T</th>\n",
       "      <td>1.101361e+08</td>\n",
       "    </tr>\n",
       "    <tr>\n",
       "      <th>M</th>\n",
       "      <td>1.041536e+08</td>\n",
       "    </tr>\n",
       "    <tr>\n",
       "      <th>L</th>\n",
       "      <td>4.977967e+07</td>\n",
       "    </tr>\n",
       "    <tr>\n",
       "      <th>W</th>\n",
       "      <td>1.091025e+07</td>\n",
       "    </tr>\n",
       "    <tr>\n",
       "      <th>V</th>\n",
       "      <td>6.709552e+06</td>\n",
       "    </tr>\n",
       "  </tbody>\n",
       "</table>\n",
       "</div>"
      ],
      "text/plain": [
       "        TRANSACTION_AMT\n",
       "ORG_TP                 \n",
       "Other      5.539642e+09\n",
       "C          2.862882e+08\n",
       "T          1.101361e+08\n",
       "M          1.041536e+08\n",
       "L          4.977967e+07\n",
       "W          1.091025e+07\n",
       "V          6.709552e+06"
      ]
     },
     "execution_count": 41,
     "metadata": {},
     "output_type": "execute_result"
    }
   ],
   "source": [
    "# Group the transaction amount based on the Organization Interest Group Category of the committee (ORG_TP) in the \n",
    "# joined dataframe then sum up those donations and sort those donations with decending order.\n",
    "# Then it shows the result.\n",
    "cmteIndivDf.groupby([\"ORG_TP\"]).sum().sort_values([\"TRANSACTION_AMT\"], ascending = False)"
   ]
  },
  {
   "cell_type": "markdown",
   "metadata": {},
   "source": [
    "### The meaning of the organization Interest Group Category\n",
    "###### C = Corporation\n",
    "###### L = Labor organization\n",
    "###### M = Membership organization\n",
    "###### T = Trade association\n",
    "###### V = Cooperative\n",
    "###### W = Corporation without capital stock\n",
    "\n",
    "##### We can see that aside from other organizations which did not get documented. the most donations are still made to committees affiliated with business and the amounts are much larger than others, which implies that the rich are still the most 'Influential' in politics and elections"
   ]
  },
  {
   "cell_type": "code",
   "execution_count": null,
   "metadata": {
    "collapsed": true
   },
   "outputs": [],
   "source": []
  }
 ],
 "metadata": {
  "anaconda-cloud": {},
  "kernelspec": {
   "display_name": "Python [default]",
   "language": "python",
   "name": "python3"
  },
  "language_info": {
   "codemirror_mode": {
    "name": "ipython",
    "version": 3
   },
   "file_extension": ".py",
   "mimetype": "text/x-python",
   "name": "python",
   "nbconvert_exporter": "python",
   "pygments_lexer": "ipython3",
   "version": "3.5.2"
  }
 },
 "nbformat": 4,
 "nbformat_minor": 2
}

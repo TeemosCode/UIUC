{
 "cells": [
  {
   "cell_type": "code",
   "execution_count": 1,
   "metadata": {},
   "outputs": [
    {
     "name": "stderr",
     "output_type": "stream",
     "text": [
      "/Users/Roge/anaconda/lib/python3.5/site-packages/fix_yahoo_finance/__init__.py:43: DeprecationWarning: \n",
      "    Auto-overriding of pandas_datareader's get_data_yahoo() is deprecated and no longer available.\n",
      "    Use pdr_override() to explicitly override it.\n",
      "  DeprecationWarning)\n"
     ]
    }
   ],
   "source": [
    "import pandas as pd\n",
    "\n",
    "from pandas_datareader import data as pdr\n",
    "import pandas_datareader.data as web\n",
    "import pandas_datareader\n",
    "import numpy as np\n",
    "\n",
    "import matplotlib.pyplot as plt\n",
    "import seaborn as sns\n",
    "\n",
    "import datetime\n",
    "from dateutil.relativedelta import relativedelta\n",
    "\n",
    "import fix_yahoo_finance as yf\n",
    "\n",
    "# loading data into dataframe with the fix_yahoo_finance library as the pandas_datareader can not correctly connect to yahoo finance\n",
    "# we used the pandas_datareader library along with fix_yahoo_finance library to fix this problem.\n",
    "# We first apply pandas_datareader's pdr_override() method to the fix_yahoo_finance library then we are good to go.\n",
    "yf.pdr_override()"
   ]
  },
  {
   "cell_type": "code",
   "execution_count": 2,
   "metadata": {
    "collapsed": true
   },
   "outputs": [],
   "source": [
    "# index tickers\n",
    "NASDAQ = '^IXIC'\n",
    "NYSE = '^NYA'\n",
    "Dow_Jones = '^DJI'\n",
    "S_P = '^GSPC'\n",
    "Shanghai = '000001.SS'\n",
    "Euro = '^STOXX50E'\n",
    "\n",
    "# create a dictionary that contains index and its corresponding tickers \n",
    "indexnames_and_tickers = {\"NASDAQ\" : '^IXIC', \"NYSE\" : '^NYA', \"Dow_Jones\" : '^DJI', \"S_P\" : '^GSPC',\n",
    "                  \"Shanghai\" : '000001.SS', \"Euro\" : '^STOXX50E'}\n"
   ]
  },
  {
   "cell_type": "code",
   "execution_count": 9,
   "metadata": {
    "collapsed": true
   },
   "outputs": [],
   "source": [
    "# a function to set the time for how many months into the past up to today to download the stock data\n",
    "def set_time(months = 24):\n",
    "    \"\"\"\n",
    "    This function is used to set the time for how many months into the past up to today to download the stock data.\n",
    "    The use can customize how many months they want, but the default is 24 months.\n",
    "    \n",
    "    :param months: The number of past months stock data to download from today\n",
    "    :return start_date: The start date of the stock data for downloading\n",
    "    \"\"\"\n",
    "    months = 24\n",
    "    start_date = (datetime.datetime.now() - relativedelta(months=months)).strftime(\"%Y-%m-%d\")\n",
    "    return start_date\n",
    "\n",
    "start_date = set_time()"
   ]
  },
  {
   "cell_type": "code",
   "execution_count": 10,
   "metadata": {},
   "outputs": [
    {
     "name": "stdout",
     "output_type": "stream",
     "text": [
      "What other stock ticker would you like to query? [Please type different tickers seperated with a comma]IBM,GOOGL\n"
     ]
    }
   ],
   "source": [
    "# Create Stock dictionary to save user's input stock's ticker's names and its corresponding tickers\n",
    "stocknames_and_tickers = {}\n",
    "\n",
    "\n",
    "def user_stock_input():\n",
    "    \"\"\"\n",
    "    The function takes in user's stock ticker's input then saves the ticker's name as the stock name and its\n",
    "    corresponding ticker into the stocknames_and_tickers dictionary in the global namespace.\n",
    "    \n",
    "    :return: None\n",
    "    \"\"\"\n",
    "    \n",
    "    user_input = input(\"What other stock ticker would you like to query? [Please type different tickers seperated with a comma]\")\n",
    "    # splits users input into a list of stock names\n",
    "    tickerList = user_input.split(\",\")\n",
    "    \n",
    "    # save the ticker name (Which we also make it the stocks representing name ) into the stocknames_and_tickers\n",
    "    # with the stock name as keys and its corresponding ticker name as the value\n",
    "    for stock_names in tickerList:\n",
    "        stocknames_and_tickers[stock_names] = stock_names\n",
    "        \n",
    "user_stock_input()"
   ]
  },
  {
   "cell_type": "code",
   "execution_count": 11,
   "metadata": {},
   "outputs": [
    {
     "name": "stdout",
     "output_type": "stream",
     "text": [
      "Loading Data Sets From the web ...\n",
      "....\n",
      "...\n",
      "\n",
      "[*********************100%***********************]  1 of 1 downloaded\n",
      "Finished loading data sets!\n",
      "\n"
     ]
    }
   ],
   "source": [
    "index_df_Dict = {} # a dictionary used to contain different stock ticker names with their corresponding dataframe\n",
    "stock_df_Dict = {} # a dictionary used to contain user input tickers names and its dataframe\n",
    "\n",
    "def get_stock_data(start_date: int):\n",
    "    \"\"\"\n",
    "    This function loops throug the index stocks dictionary (indexnames_and_tickers) \n",
    "    and user input stocks dictionary (stocknames_and_tickers) for the ticker's name and string value\n",
    "    to automatically connect to yahoo finance and download the corresponding ticker as pandas' dataframe object data\n",
    "    and save it into the two predefined dictionaries (index_df_Dict & stock_df_Dict) in the global namespace.\n",
    "    \n",
    "    :param start_date: The start date for when to download the stock ticker data\n",
    "    :return: None\n",
    "    \"\"\"\n",
    "    for stockname, tickername in stocknames_and_tickers.items():\n",
    "        stock_df_Dict[stockname] = pdr.get_data_yahoo(tickername, start=start_date)\n",
    "    for indexname, tickername in indexnames_and_tickers.items():\n",
    "        index_df_Dict[indexname] = pdr.get_data_yahoo(tickername, start = start_date)\n",
    "\n",
    "# Automatically\tdownload\tthe\tstock\tdata\t(including\tthe\tindexes)\tfor\tthe\tpast\t24 months\n",
    "def connect_stock_data(start_date):\n",
    "    \"\"\"\n",
    "    Automatically download the stock data by calling the get_stock_data function.\n",
    "    When all data are correctly downloaded prints to terminal the all data are finished and loaded for use.\n",
    "    If there are any connection errors, the fucntion would keep calling get_stock_data function until all data\n",
    "    are fully loaded.\n",
    "    \n",
    "    :param start_date: The start date for when to download the stock ticker data, used to pass as an argument for the get_stock_data function\n",
    "    :return: None\n",
    "    \"\"\"\n",
    "    print(\"Loading Data Sets From the web ...\\n....\\n...\\n\")\n",
    "    while True:\n",
    "        try:\n",
    "            get_stock_data(start_date)\n",
    "            break\n",
    "        except Error as e:\n",
    "            print(e)\n",
    "            pass\n",
    "    print(\"\\nFinished loading data sets!\\n\")\n",
    "connect_stock_data(start_date)"
   ]
  },
  {
   "cell_type": "code",
   "execution_count": 12,
   "metadata": {
    "collapsed": true
   },
   "outputs": [],
   "source": [
    "# function to create dataframe that contains only the index stock's \"Adjusted Close\" price values.\n",
    "def create_indexAdjClose_df():\n",
    "    \"\"\"\n",
    "    Since we are only interested in each stock's \"Adjusted Close\" price. Thus we initialize another pandas dataframe \n",
    "    --> index_adjclose_df, to save only the \"Adjusted Close\" column data of each index stocks tickers' dataframe from \n",
    "    the index_df_Dict dictionary in the global namespace.\n",
    "    \n",
    "    :return index_adjclose_df: A pandas dataframe object containing each index stock ticker's \"Adj Close\" price values\n",
    "    \"\"\"\n",
    "    # initialize pandas dataframe object\n",
    "    index_adjclose_df = pd.DataFrame()\n",
    "    \n",
    "    # loop through each index stock's tickers' name in the index_df_Dict dictionary in the global namespace and save\n",
    "    # their \"Adj Close\" column price values into the index_adjclose_df dataframe\n",
    "    for index_name in index_df_Dict:\n",
    "        index_adjclose_df[index_name] = index_df_Dict[index_name][\"Adj Close\"]\n",
    "        \n",
    "    return index_adjclose_df\n",
    "\n",
    "\n",
    "index_adjclose_df = create_indexAdjClose_df()"
   ]
  },
  {
   "cell_type": "code",
   "execution_count": 13,
   "metadata": {},
   "outputs": [],
   "source": [
    "# function to create dataframe that contains only the user's input stocks' \"Adjusted Close\" price values.\n",
    "def create_stockAdjClose_df():\n",
    "    \"\"\"\n",
    "    Since we are only interested in each stock's \"Adjusted Close\" price. Thus we initialize another pandas dataframe \n",
    "    --> stock_adjclose_df, to save only the \"Adjusted Close\" column data of each user's input stocks tickers' dataframe from \n",
    "    the stock_df_Dict dictionary in the global namespace.\n",
    "    \n",
    "    :return index_adjclose_df: A pandas dataframe object containing each user's input stocks' ticker's \"Adj Close\" price values\n",
    "    \"\"\"\n",
    "    # initialize pandas dataframe object\n",
    "    stock_adjclose_df = pd.DataFrame()\n",
    "    \n",
    "    # loop through each user's stock's tickers' name in the stock_df_Dict dictionary in the global namespace and save\n",
    "    # their \"Adj Close\" column price values into the stock_adjclose_df dataframe\n",
    "    for stock_name in stock_df_Dict:\n",
    "        stock_adjclose_df[stock_name] = stock_df_Dict[stock_name][\"Adj Close\"]\n",
    "    \n",
    "    return stock_adjclose_df\n",
    "\n",
    "stock_adjclose_df = create_stockAdjClose_df()"
   ]
  },
  {
   "cell_type": "code",
   "execution_count": 14,
   "metadata": {
    "collapsed": true
   },
   "outputs": [],
   "source": [
    "# Merge both of index (index_adjclose_df) and stock's (stock_adjclose_df) dataframe for correlation calculation and analysis\n",
    "def merge_for_corr(index_adjclose_df, stock_adjclose_df):\n",
    "    \"\"\"\n",
    "    Merges both of index (index_adjclose_df) and stock's (stock_adjclose_df) dataframe \n",
    "    for correlation calculation and analysis\n",
    "    \n",
    "    :param index_adjclose_df: The index_adjclose_df dictionary in the global namespace containing index ticker's \"Adjust Close\" price values\n",
    "    :param stock_adjclose_df: The stock_adjclose_df dictionary in the global namespace containing index ticker's \"Adjust Close\" price values\n",
    "    \n",
    "    :return correlation_df: The dataframe that contains both index and user's input stocks' tickers' \"Adjusted Close\" price values.\n",
    "    \"\"\"\n",
    "    # Merge both index dataframes and users' input stock dataframes by column (axis = 1)\n",
    "    correlation_df = pd.concat([index_adjclose_df, stock_adjclose_df], axis = 1)\n",
    "    return correlation_df\n",
    "\n",
    "correlation_df = merge_for_corr(index_adjclose_df, stock_adjclose_df)"
   ]
  },
  {
   "cell_type": "code",
   "execution_count": 15,
   "metadata": {},
   "outputs": [
    {
     "name": "stdout",
     "output_type": "stream",
     "text": [
      "The 'stock' that correlates most strongly with each individual index :  GOOGL\n",
      "Mean Value of its correlation: 0.791700960892\n",
      "===========================================================================\n",
      "The 'index' that correlates most strongly with each individual stock :  S_P\n",
      "Mean Value of its correlation: 0.762039070132\n"
     ]
    }
   ],
   "source": [
    "# Calculating the correlation of user's input stocks and index stocks adjusted close price\n",
    "def calculate_correlation(correlation_df):\n",
    "    \"\"\"\n",
    "    Calculate percentage change on the stock prices and indexes to first normalize eveything to a common range.\n",
    "    Then calculate the correlations in the correlation_df dataframe, subset it to only containing the index tickers'\n",
    "    as columns and user's input stocks' tickers as row (index) and save the subset to a new datafram object-->\n",
    "    index_stock_corr_df and return the dataframe\n",
    "    \n",
    "    :param correlation_df: The dataframe that contains the merged users' input stock and index stock dataframe.\n",
    "    :return index_stock_corr_df: Dataframe object that contains the correlation of user's input stocks' (as the ROW index)\n",
    "    & index stocks' (as the Columns)\n",
    "    \"\"\"\n",
    "    # Calculate percentage changes on the stock prices & indexes\n",
    "    correlation_df = correlation_df.pct_change() \n",
    "\n",
    "    # Calculate the correlations in the correlation_df dataframe, subset it to only containing the index tickers'\n",
    "    # save the subset to a new datafram object--> index_stock_corr_df and return the dataframe\n",
    "    index_stock_corr_df = correlation_df.corr().loc[list(stock_df_Dict.keys()),list(index_df_Dict.keys())]\n",
    "    \n",
    "    return index_stock_corr_df\n",
    "\n",
    "\n",
    "index_stock_corr_df = calculate_correlation(correlation_df)\n",
    "\n",
    "\n",
    "# create the mean of correlation for both rows (user input stocks) and columns (index stocks) of the index_stock_corr_df dataframe\n",
    "def create_corr_mean(correlation_df, index_stock_corr_df):\n",
    "    \"\"\"\n",
    "    In order to know which index correlates the most strongly with each individual stock and vice versa, we calculate the\n",
    "    mean of the correlation for each index and each individual stock. Then we add these tow new values as a new row and column\n",
    "    for the index_stock_corr_df for further calculations.\n",
    "    \n",
    "    :param correlation_df: The dataframe that contains the merged users' input stock and index stock dataframe.\n",
    "    :param index_stock_corr_df: Dataframe object that contains the correlation of user's input stocks' (as the ROW index)\n",
    "    & index stocks' (as the Columns)\n",
    "    \n",
    "    :return index_stock_corr_df: The index_stock_corr_df dataframe with newly added correlation mean row and column.\n",
    "    \"\"\"\n",
    "    # axis = 1, mean for rows\n",
    "    # index_stock_corr_df[\"Adj_Close_MEAN\"]\n",
    "    row_corr_mean = correlation_df.corr().loc[list(stock_df_Dict.keys()),list(index_df_Dict.keys())].mean(axis = 1)\n",
    "\n",
    "    # axis = 0, mean for columns\n",
    "    # index_stock_corr_df.loc[\"Adj_Close_MEAN\"]\n",
    "    col_corr_mean = correlation_df.corr().loc[list(stock_df_Dict.keys()),list(index_df_Dict.keys())].mean(axis = 0)\n",
    "\n",
    "    # add the rows correlation mean under a new column name : \"Adj_Close_MEAN\" in the index_stock_corr_df dataframe\n",
    "    index_stock_corr_df[\"Adj_Close_MEAN\"] = row_corr_mean\n",
    "    # add the columns correlation mean in a new row name : \"Adj_Close_MEAN\" in the index_stock_corr_df dataframe\n",
    "    index_stock_corr_df.loc[\"Adj_Close_MEAN\"] = col_corr_mean\n",
    "    \n",
    "    return index_stock_corr_df\n",
    "\n",
    "index_stock_corr_df = create_corr_mean(correlation_df, index_stock_corr_df)\n",
    "\n",
    "\n",
    "def most_strongly_corr(index_stock_corr_df):\n",
    "    \"\"\"\n",
    "    Because the index ticker with the largest correlation mean with user input stocks means that it correlates the strongest\n",
    "    with all other user input stocks on average than other index ticker, and vice versa.\n",
    "    Thus, to know which index correlates the most strongly with each individual stock and vice versa, the funtion finds the ticker\n",
    "    with the largest correlation mean for both column(index) and row(input stocks).\n",
    "    \n",
    "    It then displays the largest correlation mean value and the name of the ticker for both index and user input stock.\n",
    "    \n",
    "    :param index_stock_corr_df: The index_stock_corr_df dataframe with newly added correlation mean row and column.\n",
    "    :return: None\n",
    "    \"\"\"\n",
    "    # for rows --> stock -> index\n",
    "    # The stock name that has the largest correlation mean with all index\n",
    "    stock_name = ''.join(list(index_stock_corr_df[index_stock_corr_df.Adj_Close_MEAN == index_stock_corr_df.Adj_Close_MEAN.max()].index))\n",
    "    \n",
    "    print(\"The 'stock' that correlates most strongly with each individual index :  \" + stock_name)\n",
    "    print(\"Mean Value of its correlation: \" + str(index_stock_corr_df.Adj_Close_MEAN.max()))\n",
    "\n",
    "    print(\"===========================================================================\")\n",
    "    # for col --> index -> stock\n",
    "    # The index name that has the largest correlation mean with all stocks\n",
    "    index_name = ''.join(index_stock_corr_df.loc[:,index_stock_corr_df.loc[\"Adj_Close_MEAN\"] == index_stock_corr_df.loc[\"Adj_Close_MEAN\"].max()].columns)\n",
    "    \n",
    "    print(\"The 'index' that correlates most strongly with each individual stock :  \" + index_name)\n",
    "    print(\"Mean Value of its correlation: \" + str(index_stock_corr_df.loc[\"Adj_Close_MEAN\"].max()))\n",
    "\n",
    "most_strongly_corr(index_stock_corr_df)\n"
   ]
  },
  {
   "cell_type": "code",
   "execution_count": 21,
   "metadata": {},
   "outputs": [
    {
     "data": {
      "text/html": [
       "<div>\n",
       "<table border=\"1\" class=\"dataframe\">\n",
       "  <thead>\n",
       "    <tr style=\"text-align: right;\">\n",
       "      <th></th>\n",
       "      <th>Shanghai</th>\n",
       "      <th>NASDAQ</th>\n",
       "      <th>Dow_Jones</th>\n",
       "      <th>NYSE</th>\n",
       "      <th>Euro</th>\n",
       "      <th>S_P</th>\n",
       "    </tr>\n",
       "  </thead>\n",
       "  <tbody>\n",
       "    <tr>\n",
       "      <th>GOOGL</th>\n",
       "      <td>0.08592</td>\n",
       "      <td>0.723069</td>\n",
       "      <td>0.448143</td>\n",
       "      <td>0.425752</td>\n",
       "      <td>0.410765</td>\n",
       "      <td>0.583993</td>\n",
       "    </tr>\n",
       "    <tr>\n",
       "      <th>IBM</th>\n",
       "      <td>0.20015</td>\n",
       "      <td>0.387525</td>\n",
       "      <td>0.561600</td>\n",
       "      <td>0.545078</td>\n",
       "      <td>0.378322</td>\n",
       "      <td>0.519853</td>\n",
       "    </tr>\n",
       "  </tbody>\n",
       "</table>\n",
       "</div>"
      ],
      "text/plain": [
       "       Shanghai    NASDAQ  Dow_Jones      NYSE      Euro       S_P\n",
       "GOOGL   0.08592  0.723069   0.448143  0.425752  0.410765  0.583993\n",
       "IBM     0.20015  0.387525   0.561600  0.545078  0.378322  0.519853"
      ]
     },
     "execution_count": 21,
     "metadata": {},
     "output_type": "execute_result"
    }
   ],
   "source": [
    "# initialize a dictionary to save the different dataframes containing the correlations of 5 numbers of shifts\n",
    "shift_corr_df_dict = {} \n",
    "\n",
    "def correlation_shift():\n",
    "    \"\"\"\n",
    "    Shift the dataframes for different numbers, calculate the correlation between different shifts of days, generating \n",
    "    different dataframes then assign those dataframes to the shift_corr_df_dict dictionary in the global namespace as values \n",
    "    with their number of shifts as keys.\n",
    "    \n",
    "    :return: None\n",
    "    \"\"\"\n",
    "    # The 5 numbers of shifts (negative numbers to mean shifting the rows upwards, camparing each data with its previous number of shifts data)\n",
    "    num_of_shift = range(-1,-6,-1)\n",
    "\n",
    "    # calculate the correlation between different shifts of days, generating dataframes to save it in the shift_corr_df_dict dictionary\n",
    "    for num in num_of_shift:\n",
    "        shift_corr_df_dict[-num] = (correlation_df - correlation_df.shift(num)).corr().loc[list(stock_df_Dict.keys()),list(index_df_Dict.keys())]\n",
    "\n",
    "correlation_shift()\n",
    "\n",
    "\n",
    "shift_corr_df_dict[5].head(6)"
   ]
  },
  {
   "cell_type": "code",
   "execution_count": 89,
   "metadata": {},
   "outputs": [
    {
     "name": "stdout",
     "output_type": "stream",
     "text": [
      "=======\n",
      "The 'shift number' :  1 \n",
      "That has the STONGEST correlation after the shift: \n",
      "      Stock Name: ' GOOGL '\n",
      "      Index Name: ' NASDAQ '\n",
      "\n"
     ]
    },
    {
     "ename": "ValueError",
     "evalue": "The truth value of a Series is ambiguous. Use a.empty, a.bool(), a.item(), a.any() or a.all().",
     "output_type": "error",
     "traceback": [
      "\u001b[0;31m---------------------------------------------------------------------------\u001b[0m",
      "\u001b[0;31mValueError\u001b[0m                                Traceback (most recent call last)",
      "\u001b[0;32m<ipython-input-89-bebb003145b4>\u001b[0m in \u001b[0;36m<module>\u001b[0;34m()\u001b[0m\n\u001b[1;32m     62\u001b[0m \u001b[0;34m\u001b[0m\u001b[0m\n\u001b[1;32m     63\u001b[0m \u001b[0;34m\u001b[0m\u001b[0m\n\u001b[0;32m---> 64\u001b[0;31m \u001b[0mnames_shifts_of_stronger_correlation\u001b[0m\u001b[0;34m(\u001b[0m\u001b[0;34m)\u001b[0m\u001b[0;34m\u001b[0m\u001b[0m\n\u001b[0m\u001b[1;32m     65\u001b[0m \u001b[0;34m\u001b[0m\u001b[0m\n\u001b[1;32m     66\u001b[0m \u001b[0;34m\u001b[0m\u001b[0m\n",
      "\u001b[0;32m<ipython-input-89-bebb003145b4>\u001b[0m in \u001b[0;36mnames_shifts_of_stronger_correlation\u001b[0;34m()\u001b[0m\n\u001b[1;32m     57\u001b[0m     \"\"\"\n\u001b[1;32m     58\u001b[0m     \u001b[0;32mfor\u001b[0m \u001b[0mshiftnum\u001b[0m \u001b[0;32min\u001b[0m \u001b[0mshift_corr_df_dict\u001b[0m\u001b[0;34m:\u001b[0m\u001b[0;34m\u001b[0m\u001b[0m\n\u001b[0;32m---> 59\u001b[0;31m         \u001b[0mfind_stronger_corelation\u001b[0m\u001b[0;34m(\u001b[0m\u001b[0mshiftnum\u001b[0m\u001b[0;34m)\u001b[0m\u001b[0;34m\u001b[0m\u001b[0m\n\u001b[0m\u001b[1;32m     60\u001b[0m \u001b[0;34m\u001b[0m\u001b[0m\n\u001b[1;32m     61\u001b[0m \u001b[0;34m\u001b[0m\u001b[0m\n",
      "\u001b[0;32m<ipython-input-89-bebb003145b4>\u001b[0m in \u001b[0;36mfind_stronger_corelation\u001b[0;34m(shiftnum)\u001b[0m\n\u001b[1;32m     40\u001b[0m         \u001b[0mrows\u001b[0m \u001b[0;34m=\u001b[0m \u001b[0;34m''\u001b[0m \u001b[0;31m# initialize row to later capture the stock name that contains the value\u001b[0m\u001b[0;34m\u001b[0m\u001b[0m\n\u001b[1;32m     41\u001b[0m         \u001b[0;32mfor\u001b[0m \u001b[0mcol\u001b[0m \u001b[0;32min\u001b[0m \u001b[0msub_df\u001b[0m\u001b[0;34m.\u001b[0m\u001b[0mcolumns\u001b[0m\u001b[0;34m:\u001b[0m\u001b[0;34m\u001b[0m\u001b[0m\n\u001b[0;32m---> 42\u001b[0;31m             \u001b[0;32mif\u001b[0m \u001b[0;34m(\u001b[0m\u001b[0msub_df\u001b[0m\u001b[0;34m[\u001b[0m\u001b[0msub_df\u001b[0m\u001b[0;34m[\u001b[0m\u001b[0mcol\u001b[0m\u001b[0;34m]\u001b[0m \u001b[0;34m==\u001b[0m \u001b[0mmin\u001b[0m\u001b[0;34m(\u001b[0m\u001b[0mls\u001b[0m\u001b[0;34m)\u001b[0m\u001b[0;34m]\u001b[0m\u001b[0;34m.\u001b[0m\u001b[0mnotnull\u001b[0m\u001b[0;34m(\u001b[0m\u001b[0;34m)\u001b[0m \u001b[0;34m==\u001b[0m \u001b[0;32mTrue\u001b[0m\u001b[0;34m)\u001b[0m\u001b[0;34m.\u001b[0m\u001b[0many\u001b[0m\u001b[0;34m(\u001b[0m\u001b[0;34m)\u001b[0m\u001b[0;34m:\u001b[0m\u001b[0;34m\u001b[0m\u001b[0m\n\u001b[0m\u001b[1;32m     43\u001b[0m                 \u001b[0mcolumns\u001b[0m \u001b[0;34m=\u001b[0m \u001b[0mcol\u001b[0m\u001b[0;34m\u001b[0m\u001b[0m\n\u001b[1;32m     44\u001b[0m         \u001b[0;32mfor\u001b[0m \u001b[0mrow\u001b[0m \u001b[0;32min\u001b[0m \u001b[0msub_df\u001b[0m\u001b[0;34m.\u001b[0m\u001b[0mindex\u001b[0m\u001b[0;34m:\u001b[0m\u001b[0;34m\u001b[0m\u001b[0m\n",
      "\u001b[0;32m/Users/Roge/anaconda/lib/python3.5/site-packages/pandas/core/generic.py\u001b[0m in \u001b[0;36m__nonzero__\u001b[0;34m(self)\u001b[0m\n\u001b[1;32m    890\u001b[0m         raise ValueError(\"The truth value of a {0} is ambiguous. \"\n\u001b[1;32m    891\u001b[0m                          \u001b[0;34m\"Use a.empty, a.bool(), a.item(), a.any() or a.all().\"\u001b[0m\u001b[0;34m\u001b[0m\u001b[0m\n\u001b[0;32m--> 892\u001b[0;31m                          .format(self.__class__.__name__))\n\u001b[0m\u001b[1;32m    893\u001b[0m \u001b[0;34m\u001b[0m\u001b[0m\n\u001b[1;32m    894\u001b[0m     \u001b[0m__bool__\u001b[0m \u001b[0;34m=\u001b[0m \u001b[0m__nonzero__\u001b[0m\u001b[0;34m\u001b[0m\u001b[0m\n",
      "\u001b[0;31mValueError\u001b[0m: The truth value of a Series is ambiguous. Use a.empty, a.bool(), a.item(), a.any() or a.all()."
     ]
    }
   ],
   "source": [
    "# Function that finds and outputs information on stocks that correlate more strongly with an index when shifted\n",
    "def find_stronger_corelation(shiftnum: int):\n",
    "    \"\"\"\n",
    "    The function calculates whether there is a stronger correlation of stocks and index when shifted.\n",
    "    If there is ,the subtraction of previous original dataframe (unshifted index_stock_corr_df) would have values\n",
    "    smaller than 0.\n",
    "    After making sure there is a stronger correlation, the function then saves those values it\n",
    "    finds and outputs information on stocks that correlate more strongly with and index when shifted\n",
    "    \n",
    "    :param shiftnum: The shifted numbers of each dataframe. Used for finding its correlated shifted dataframe in the\n",
    "    shift_corr_df_dict dictionary in the global namespace.\n",
    "    \n",
    "    :return: None\n",
    "    \"\"\"\n",
    "    # are there any negative values? --> meaning that there is a stronger correlation\n",
    "    if (index_stock_corr_df[(index_stock_corr_df - shift_corr_df_dict[shiftnum]) < 0].count() > 0).any():\n",
    "        ls = []\n",
    "        sub_df = index_stock_corr_df - shift_corr_df_dict[shiftnum]\n",
    "        for array in (index_stock_corr_df - shift_corr_df_dict[shiftnum]).values:\n",
    "            for value in array:\n",
    "                if value < 0:\n",
    "                    ls.append(value)\n",
    "        # If there are NO stronger correaltions for the numbers (shiftnum) of shifts\n",
    "        if ls == []:\n",
    "            print(\"There are NO Stronger correlations for '\",shiftnum,\"' of shifts!\")\n",
    "            return\n",
    "    \n",
    "        # loop through each value of the data frame to find the column and index names of the smallest(most negative) value\n",
    "        # which means that the shifted dataframe had the largest correlation.\n",
    "        # Once found, output the row( user input stocks) and column(index stock ticker) that has the \"strongest\" findings\n",
    "        for row in sub_df.index:\n",
    "            for col in sub_df.columns:\n",
    "                if sub_df.loc[row, col] == min(ls):\n",
    "                    # print(min(ls))\n",
    "                    print(\"=======\\nThe 'shift number' : \", shiftnum,\"\\nThat has the STONGEST correlation after the shift: \\n\",\n",
    "                          \"     Stock Name: '\", row,\"'\\n\", \"     Index Name: '\", col,\"'\\n\")\n",
    "            \n",
    "        # A better algorithmic solution that isn't with Brute force.\n",
    "        columns = '' # initialize column name to later capture the index name that contains the value\n",
    "        rows = '' # initialize row to later capture the stock name that contains the value\n",
    "        for col in sub_df.columns:\n",
    "            if (sub_df[sub_df[col] == min(ls)].notnull() == True).any():\n",
    "                columns = col\n",
    "        for row in sub_df.index:\n",
    "            if (sub_df[sub_df[col] == min(ls)].notnull() == True).any():\n",
    "                rows = row\n",
    "        print(\"=======\\nThe 'shift number' : \", shiftnum,\"\\nThat has the STONGEST correlation after the shift: \\n\",\n",
    "                          \"     Stock Name: '\", row,\"'\\n\", \"     Index Name: '\", col,\"'\\n\")\n",
    "                \n",
    "# function that loops through the find_stronger_corelation dictionary and calling the 'find_stronger_corelation' function each loop\n",
    "def names_shifts_of_stronger_correlation():\n",
    "    \"\"\"\n",
    "    Loops through all the shifted numbers in shift_corr_df_dict dictionary in the global namespace and pass those\n",
    "    numbers into the find_stronger_corelation to find and output the strongest correlation index and stock names.\n",
    "\n",
    "    :return: None\n",
    "    \"\"\"\n",
    "    for shiftnum in shift_corr_df_dict:\n",
    "        find_stronger_corelation(shiftnum)\n",
    "\n",
    "    \n",
    "                \n",
    "\n",
    "names_shifts_of_stronger_correlation()\n",
    "                    \n",
    "\n",
    "\n",
    "\n"
   ]
  },
  {
   "cell_type": "code",
   "execution_count": 31,
   "metadata": {},
   "outputs": [
    {
     "data": {
      "text/html": [
       "<div>\n",
       "<table border=\"1\" class=\"dataframe\">\n",
       "  <thead>\n",
       "    <tr style=\"text-align: right;\">\n",
       "      <th></th>\n",
       "      <th>Shanghai</th>\n",
       "      <th>NASDAQ</th>\n",
       "      <th>Dow_Jones</th>\n",
       "      <th>NYSE</th>\n",
       "      <th>Euro</th>\n",
       "      <th>S_P</th>\n",
       "    </tr>\n",
       "  </thead>\n",
       "  <tbody>\n",
       "    <tr>\n",
       "      <th>GOOGL</th>\n",
       "      <td>0.08592</td>\n",
       "      <td>0.723069</td>\n",
       "      <td>0.448143</td>\n",
       "      <td>0.425752</td>\n",
       "      <td>0.410765</td>\n",
       "      <td>0.583993</td>\n",
       "    </tr>\n",
       "    <tr>\n",
       "      <th>IBM</th>\n",
       "      <td>0.20015</td>\n",
       "      <td>0.387525</td>\n",
       "      <td>0.561600</td>\n",
       "      <td>0.545078</td>\n",
       "      <td>0.378322</td>\n",
       "      <td>0.519853</td>\n",
       "    </tr>\n",
       "  </tbody>\n",
       "</table>\n",
       "</div>"
      ],
      "text/plain": [
       "       Shanghai    NASDAQ  Dow_Jones      NYSE      Euro       S_P\n",
       "GOOGL   0.08592  0.723069   0.448143  0.425752  0.410765  0.583993\n",
       "IBM     0.20015  0.387525   0.561600  0.545078  0.378322  0.519853"
      ]
     },
     "execution_count": 31,
     "metadata": {},
     "output_type": "execute_result"
    }
   ],
   "source": [
    "shift_corr_df_dict[5]\n",
    "# -0.151133785827"
   ]
  },
  {
   "cell_type": "code",
   "execution_count": 32,
   "metadata": {
    "collapsed": true
   },
   "outputs": [],
   "source": [
    "sub_df = index_stock_corr_df - shift_corr_df_dict[5]\n",
    "# -0.151134\n"
   ]
  },
  {
   "cell_type": "code",
   "execution_count": 48,
   "metadata": {},
   "outputs": [
    {
     "data": {
      "text/plain": [
       "Adj_Close_MEAN         NaN\n",
       "GOOGL             0.003976\n",
       "IBM              -0.151134\n",
       "Name: Shanghai, dtype: float64"
      ]
     },
     "execution_count": 48,
     "metadata": {},
     "output_type": "execute_result"
    }
   ],
   "source": [
    "sub_df.Shanghai"
   ]
  },
  {
   "cell_type": "code",
   "execution_count": 42,
   "metadata": {},
   "outputs": [
    {
     "data": {
      "text/plain": [
       "Adj_Close_MEAN         NaN\n",
       "GOOGL             0.003976\n",
       "IBM              -0.151134\n",
       "Name: Shanghai, dtype: float64"
      ]
     },
     "execution_count": 42,
     "metadata": {},
     "output_type": "execute_result"
    }
   ],
   "source": [
    "sub_df.Shanghai"
   ]
  },
  {
   "cell_type": "code",
   "execution_count": 51,
   "metadata": {
    "collapsed": true
   },
   "outputs": [],
   "source": [
    "sup = pd.DataFrame({\"teemo\":[1,2,3,4,5], \"Trist\":[2,3,3,3,4], \"Urgod\":[8,8,9,9,9]}, index = [\"Kills\",\"Assists\",\"Deaths\",\"Suicides\",\"Towers\"])"
   ]
  },
  {
   "cell_type": "code",
   "execution_count": 52,
   "metadata": {},
   "outputs": [
    {
     "data": {
      "text/html": [
       "<div>\n",
       "<table border=\"1\" class=\"dataframe\">\n",
       "  <thead>\n",
       "    <tr style=\"text-align: right;\">\n",
       "      <th></th>\n",
       "      <th>Trist</th>\n",
       "      <th>Urgod</th>\n",
       "      <th>teemo</th>\n",
       "    </tr>\n",
       "  </thead>\n",
       "  <tbody>\n",
       "    <tr>\n",
       "      <th>Kills</th>\n",
       "      <td>2</td>\n",
       "      <td>8</td>\n",
       "      <td>1</td>\n",
       "    </tr>\n",
       "    <tr>\n",
       "      <th>Assists</th>\n",
       "      <td>3</td>\n",
       "      <td>8</td>\n",
       "      <td>2</td>\n",
       "    </tr>\n",
       "    <tr>\n",
       "      <th>Deaths</th>\n",
       "      <td>3</td>\n",
       "      <td>9</td>\n",
       "      <td>3</td>\n",
       "    </tr>\n",
       "    <tr>\n",
       "      <th>Suicides</th>\n",
       "      <td>3</td>\n",
       "      <td>9</td>\n",
       "      <td>4</td>\n",
       "    </tr>\n",
       "    <tr>\n",
       "      <th>Towers</th>\n",
       "      <td>4</td>\n",
       "      <td>9</td>\n",
       "      <td>5</td>\n",
       "    </tr>\n",
       "  </tbody>\n",
       "</table>\n",
       "</div>"
      ],
      "text/plain": [
       "          Trist  Urgod  teemo\n",
       "Kills         2      8      1\n",
       "Assists       3      8      2\n",
       "Deaths        3      9      3\n",
       "Suicides      3      9      4\n",
       "Towers        4      9      5"
      ]
     },
     "execution_count": 52,
     "metadata": {},
     "output_type": "execute_result"
    }
   ],
   "source": [
    "sup"
   ]
  },
  {
   "cell_type": "code",
   "execution_count": 56,
   "metadata": {},
   "outputs": [
    {
     "data": {
      "text/plain": [
       "Index(['Kills', 'Assists', 'Deaths', 'Suicides', 'Towers'], dtype='object')"
      ]
     },
     "execution_count": 56,
     "metadata": {},
     "output_type": "execute_result"
    }
   ],
   "source": [
    "sup[sup == 9].index"
   ]
  },
  {
   "cell_type": "code",
   "execution_count": 57,
   "metadata": {},
   "outputs": [
    {
     "data": {
      "text/html": [
       "<div>\n",
       "<table border=\"1\" class=\"dataframe\">\n",
       "  <thead>\n",
       "    <tr style=\"text-align: right;\">\n",
       "      <th></th>\n",
       "      <th>Trist</th>\n",
       "      <th>Urgod</th>\n",
       "      <th>teemo</th>\n",
       "    </tr>\n",
       "  </thead>\n",
       "  <tbody>\n",
       "    <tr>\n",
       "      <th>Kills</th>\n",
       "      <td>NaN</td>\n",
       "      <td>NaN</td>\n",
       "      <td>NaN</td>\n",
       "    </tr>\n",
       "    <tr>\n",
       "      <th>Assists</th>\n",
       "      <td>NaN</td>\n",
       "      <td>NaN</td>\n",
       "      <td>NaN</td>\n",
       "    </tr>\n",
       "    <tr>\n",
       "      <th>Deaths</th>\n",
       "      <td>NaN</td>\n",
       "      <td>9.0</td>\n",
       "      <td>NaN</td>\n",
       "    </tr>\n",
       "    <tr>\n",
       "      <th>Suicides</th>\n",
       "      <td>NaN</td>\n",
       "      <td>9.0</td>\n",
       "      <td>NaN</td>\n",
       "    </tr>\n",
       "    <tr>\n",
       "      <th>Towers</th>\n",
       "      <td>NaN</td>\n",
       "      <td>9.0</td>\n",
       "      <td>NaN</td>\n",
       "    </tr>\n",
       "  </tbody>\n",
       "</table>\n",
       "</div>"
      ],
      "text/plain": [
       "          Trist  Urgod  teemo\n",
       "Kills       NaN    NaN    NaN\n",
       "Assists     NaN    NaN    NaN\n",
       "Deaths      NaN    9.0    NaN\n",
       "Suicides    NaN    9.0    NaN\n",
       "Towers      NaN    9.0    NaN"
      ]
     },
     "execution_count": 57,
     "metadata": {},
     "output_type": "execute_result"
    }
   ],
   "source": [
    "sup[sup == 9]"
   ]
  },
  {
   "cell_type": "code",
   "execution_count": 60,
   "metadata": {},
   "outputs": [
    {
     "data": {
      "text/plain": [
       "Kills       8\n",
       "Assists     8\n",
       "Deaths      9\n",
       "Suicides    9\n",
       "Towers      9\n",
       "Name: Urgod, dtype: int64"
      ]
     },
     "execution_count": 60,
     "metadata": {},
     "output_type": "execute_result"
    }
   ],
   "source": [
    "sup[\"Urgod\"]"
   ]
  },
  {
   "cell_type": "code",
   "execution_count": 78,
   "metadata": {},
   "outputs": [
    {
     "data": {
      "text/html": [
       "<div>\n",
       "<table border=\"1\" class=\"dataframe\">\n",
       "  <thead>\n",
       "    <tr style=\"text-align: right;\">\n",
       "      <th></th>\n",
       "      <th>Trist</th>\n",
       "      <th>Urgod</th>\n",
       "      <th>teemo</th>\n",
       "    </tr>\n",
       "  </thead>\n",
       "  <tbody>\n",
       "    <tr>\n",
       "      <th>Kills</th>\n",
       "      <td>False</td>\n",
       "      <td>False</td>\n",
       "      <td>False</td>\n",
       "    </tr>\n",
       "    <tr>\n",
       "      <th>Assists</th>\n",
       "      <td>False</td>\n",
       "      <td>False</td>\n",
       "      <td>False</td>\n",
       "    </tr>\n",
       "    <tr>\n",
       "      <th>Deaths</th>\n",
       "      <td>False</td>\n",
       "      <td>True</td>\n",
       "      <td>False</td>\n",
       "    </tr>\n",
       "    <tr>\n",
       "      <th>Suicides</th>\n",
       "      <td>False</td>\n",
       "      <td>True</td>\n",
       "      <td>False</td>\n",
       "    </tr>\n",
       "    <tr>\n",
       "      <th>Towers</th>\n",
       "      <td>False</td>\n",
       "      <td>True</td>\n",
       "      <td>False</td>\n",
       "    </tr>\n",
       "  </tbody>\n",
       "</table>\n",
       "</div>"
      ],
      "text/plain": [
       "          Trist  Urgod  teemo\n",
       "Kills     False  False  False\n",
       "Assists   False  False  False\n",
       "Deaths    False   True  False\n",
       "Suicides  False   True  False\n",
       "Towers    False   True  False"
      ]
     },
     "execution_count": 78,
     "metadata": {},
     "output_type": "execute_result"
    }
   ],
   "source": [
    "sup[sup == 9].notnull()"
   ]
  },
  {
   "cell_type": "code",
   "execution_count": 80,
   "metadata": {
    "collapsed": true
   },
   "outputs": [],
   "source": [
    "booleandf = sup[sup == 9].notnull()"
   ]
  },
  {
   "cell_type": "code",
   "execution_count": 88,
   "metadata": {},
   "outputs": [
    {
     "name": "stdout",
     "output_type": "stream",
     "text": [
      "Deaths\n",
      "Suicides\n",
      "Towers\n"
     ]
    }
   ],
   "source": [
    "c = ''\n",
    "for col in booleandf:\n",
    "    if (booleandf[col] == True).any():\n",
    "        c = col\n",
    "r = ''\n",
    "for row in booleandf.index:\n",
    "    if (booleandf.loc[row] == True).any():\n",
    "        print(row)"
   ]
  },
  {
   "cell_type": "code",
   "execution_count": null,
   "metadata": {
    "collapsed": true
   },
   "outputs": [],
   "source": []
  },
  {
   "cell_type": "code",
   "execution_count": 79,
   "metadata": {},
   "outputs": [
    {
     "ename": "ValueError",
     "evalue": "The truth value of a Series is ambiguous. Use a.empty, a.bool(), a.item(), a.any() or a.all().",
     "output_type": "error",
     "traceback": [
      "\u001b[0;31m---------------------------------------------------------------------------\u001b[0m",
      "\u001b[0;31mValueError\u001b[0m                                Traceback (most recent call last)",
      "\u001b[0;32m<ipython-input-79-1a4903a71a8e>\u001b[0m in \u001b[0;36m<module>\u001b[0;34m()\u001b[0m\n\u001b[1;32m      1\u001b[0m \u001b[0mc\u001b[0m \u001b[0;34m=\u001b[0m \u001b[0;34m''\u001b[0m\u001b[0;34m\u001b[0m\u001b[0m\n\u001b[1;32m      2\u001b[0m \u001b[0;32mfor\u001b[0m \u001b[0mcol\u001b[0m \u001b[0;32min\u001b[0m \u001b[0msup\u001b[0m\u001b[0;34m.\u001b[0m\u001b[0mcolumns\u001b[0m\u001b[0;34m:\u001b[0m\u001b[0;34m\u001b[0m\u001b[0m\n\u001b[0;32m----> 3\u001b[0;31m     \u001b[0;32mif\u001b[0m \u001b[0msup\u001b[0m\u001b[0;34m[\u001b[0m\u001b[0msup\u001b[0m\u001b[0;34m==\u001b[0m \u001b[0;36m9\u001b[0m\u001b[0;34m]\u001b[0m\u001b[0;34m.\u001b[0m\u001b[0mnotnull\u001b[0m\u001b[0;34m(\u001b[0m\u001b[0;34m)\u001b[0m\u001b[0;34m.\u001b[0m\u001b[0many\u001b[0m\u001b[0;34m(\u001b[0m\u001b[0;34m)\u001b[0m\u001b[0;34m:\u001b[0m\u001b[0;34m\u001b[0m\u001b[0m\n\u001b[0m\u001b[1;32m      4\u001b[0m         \u001b[0;32mpass\u001b[0m\u001b[0;34m\u001b[0m\u001b[0m\n",
      "\u001b[0;32m/Users/Roge/anaconda/lib/python3.5/site-packages/pandas/core/generic.py\u001b[0m in \u001b[0;36m__nonzero__\u001b[0;34m(self)\u001b[0m\n\u001b[1;32m    890\u001b[0m         raise ValueError(\"The truth value of a {0} is ambiguous. \"\n\u001b[1;32m    891\u001b[0m                          \u001b[0;34m\"Use a.empty, a.bool(), a.item(), a.any() or a.all().\"\u001b[0m\u001b[0;34m\u001b[0m\u001b[0m\n\u001b[0;32m--> 892\u001b[0;31m                          .format(self.__class__.__name__))\n\u001b[0m\u001b[1;32m    893\u001b[0m \u001b[0;34m\u001b[0m\u001b[0m\n\u001b[1;32m    894\u001b[0m     \u001b[0m__bool__\u001b[0m \u001b[0;34m=\u001b[0m \u001b[0m__nonzero__\u001b[0m\u001b[0;34m\u001b[0m\u001b[0m\n",
      "\u001b[0;31mValueError\u001b[0m: The truth value of a Series is ambiguous. Use a.empty, a.bool(), a.item(), a.any() or a.all()."
     ]
    }
   ],
   "source": [
    "c = ''\n",
    "for col in sup.columns:\n",
    "    if sup[sup== 9].notnull().any():\n",
    "        pass"
   ]
  },
  {
   "cell_type": "code",
   "execution_count": 70,
   "metadata": {},
   "outputs": [
    {
     "name": "stdout",
     "output_type": "stream",
     "text": [
      "Trist\n",
      "Urgod\n",
      "teemo\n"
     ]
    }
   ],
   "source": [
    "for n in sup[sup == 9].notnull().any().index:\n",
    "    "
   ]
  },
  {
   "cell_type": "code",
   "execution_count": null,
   "metadata": {
    "collapsed": true
   },
   "outputs": [],
   "source": []
  }
 ],
 "metadata": {
  "anaconda-cloud": {},
  "kernelspec": {
   "display_name": "Python [conda root]",
   "language": "python",
   "name": "conda-root-py"
  },
  "language_info": {
   "codemirror_mode": {
    "name": "ipython",
    "version": 3
   },
   "file_extension": ".py",
   "mimetype": "text/x-python",
   "name": "python",
   "nbconvert_exporter": "python",
   "pygments_lexer": "ipython3",
   "version": "3.5.2"
  }
 },
 "nbformat": 4,
 "nbformat_minor": 2
}

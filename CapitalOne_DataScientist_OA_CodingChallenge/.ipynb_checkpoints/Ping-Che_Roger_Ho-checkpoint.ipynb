{
 "cells": [
  {
   "cell_type": "code",
   "execution_count": 1,
   "metadata": {
    "collapsed": true
   },
   "outputs": [],
   "source": [
    "%matplotlib inline # Shows the data visualizations after running the code below its code block"
   ]
  },
  {
   "cell_type": "code",
   "execution_count": 2,
   "metadata": {
    "collapsed": true
   },
   "outputs": [],
   "source": [
    "import numpy as np\n",
    "import matplotlib.pyplot as plt\n",
    "import pandas as pd\n",
    "import urllib\n",
    "\n",
    "from sklearn import svm\n",
    "from sklearn.ensemble import RandomForestClassifier "
   ]
  },
  {
   "cell_type": "markdown",
   "metadata": {
    "collapsed": true
   },
   "source": [
    "# Question 1"
   ]
  },
  {
   "cell_type": "code",
   "execution_count": 4,
   "metadata": {
    "collapsed": true
   },
   "outputs": [],
   "source": [
    "dataCSV = urllib.request.urlopen(\"https://s3.amazonaws.com/nyc-tlc/trip+data/green_tripdata_2015-09.csv\").read()\n",
    "with open(\"green_tripdata_2015-09_1.csv\", 'wb') as greenTaxiData: # remember to change the file name for saving later on\n",
    "    greenTaxiData.write(dataCSV)"
   ]
  },
  {
   "cell_type": "markdown",
   "metadata": {
    "collapsed": true
   },
   "source": [
    "#### programmatically download and load data into pandas DataFrame object"
   ]
  },
  {
   "cell_type": "code",
   "execution_count": 9,
   "metadata": {
    "collapsed": true
   },
   "outputs": [],
   "source": [
    "fileURL = \"https://s3.amazonaws.com/nyc-tlc/trip+data/green_tripdata_2015-09.csv\"\n",
    "taxiData = pd.read_csv(fileURL)"
   ]
  },
  {
   "cell_type": "markdown",
   "metadata": {
    "collapsed": true
   },
   "source": [
    "#### Rows & Columns of data loaded\n",
    "#### Rows : 1494926\n",
    "#### Columns : 21"
   ]
  },
  {
   "cell_type": "code",
   "execution_count": 10,
   "metadata": {},
   "outputs": [
    {
     "data": {
      "text/plain": [
       "(1494926, 21)"
      ]
     },
     "execution_count": 10,
     "metadata": {},
     "output_type": "execute_result"
    }
   ],
   "source": [
    "# Show the dimension of the loaded data\n",
    "taxiData.shape"
   ]
  },
  {
   "cell_type": "code",
   "execution_count": 11,
   "metadata": {},
   "outputs": [
    {
     "name": "stdout",
     "output_type": "stream",
     "text": [
      "Loaded Data contains 1494926 rows and 21 columns\n"
     ]
    }
   ],
   "source": [
    "print(\"Loaded Data contains {} rows and {} columns\".format(*taxiData.shape))"
   ]
  },
  {
   "cell_type": "code",
   "execution_count": 12,
   "metadata": {},
   "outputs": [
    {
     "data": {
      "text/html": [
       "<div>\n",
       "<table border=\"1\" class=\"dataframe\">\n",
       "  <thead>\n",
       "    <tr style=\"text-align: right;\">\n",
       "      <th></th>\n",
       "      <th>VendorID</th>\n",
       "      <th>lpep_pickup_datetime</th>\n",
       "      <th>Lpep_dropoff_datetime</th>\n",
       "      <th>Store_and_fwd_flag</th>\n",
       "      <th>RateCodeID</th>\n",
       "      <th>Pickup_longitude</th>\n",
       "      <th>Pickup_latitude</th>\n",
       "      <th>Dropoff_longitude</th>\n",
       "      <th>Dropoff_latitude</th>\n",
       "      <th>Passenger_count</th>\n",
       "      <th>...</th>\n",
       "      <th>Fare_amount</th>\n",
       "      <th>Extra</th>\n",
       "      <th>MTA_tax</th>\n",
       "      <th>Tip_amount</th>\n",
       "      <th>Tolls_amount</th>\n",
       "      <th>Ehail_fee</th>\n",
       "      <th>improvement_surcharge</th>\n",
       "      <th>Total_amount</th>\n",
       "      <th>Payment_type</th>\n",
       "      <th>Trip_type</th>\n",
       "    </tr>\n",
       "  </thead>\n",
       "  <tbody>\n",
       "    <tr>\n",
       "      <th>0</th>\n",
       "      <td>2</td>\n",
       "      <td>2015-09-01 00:02:34</td>\n",
       "      <td>2015-09-01 00:02:38</td>\n",
       "      <td>N</td>\n",
       "      <td>5</td>\n",
       "      <td>-73.979485</td>\n",
       "      <td>40.684956</td>\n",
       "      <td>-73.979431</td>\n",
       "      <td>40.685020</td>\n",
       "      <td>1</td>\n",
       "      <td>...</td>\n",
       "      <td>7.8</td>\n",
       "      <td>0.0</td>\n",
       "      <td>0.0</td>\n",
       "      <td>1.95</td>\n",
       "      <td>0.0</td>\n",
       "      <td>NaN</td>\n",
       "      <td>0.0</td>\n",
       "      <td>9.75</td>\n",
       "      <td>1</td>\n",
       "      <td>2.0</td>\n",
       "    </tr>\n",
       "    <tr>\n",
       "      <th>1</th>\n",
       "      <td>2</td>\n",
       "      <td>2015-09-01 00:04:20</td>\n",
       "      <td>2015-09-01 00:04:24</td>\n",
       "      <td>N</td>\n",
       "      <td>5</td>\n",
       "      <td>-74.010796</td>\n",
       "      <td>40.912216</td>\n",
       "      <td>-74.010780</td>\n",
       "      <td>40.912212</td>\n",
       "      <td>1</td>\n",
       "      <td>...</td>\n",
       "      <td>45.0</td>\n",
       "      <td>0.0</td>\n",
       "      <td>0.0</td>\n",
       "      <td>0.00</td>\n",
       "      <td>0.0</td>\n",
       "      <td>NaN</td>\n",
       "      <td>0.0</td>\n",
       "      <td>45.00</td>\n",
       "      <td>1</td>\n",
       "      <td>2.0</td>\n",
       "    </tr>\n",
       "    <tr>\n",
       "      <th>2</th>\n",
       "      <td>2</td>\n",
       "      <td>2015-09-01 00:01:50</td>\n",
       "      <td>2015-09-01 00:04:24</td>\n",
       "      <td>N</td>\n",
       "      <td>1</td>\n",
       "      <td>-73.921410</td>\n",
       "      <td>40.766708</td>\n",
       "      <td>-73.914413</td>\n",
       "      <td>40.764687</td>\n",
       "      <td>1</td>\n",
       "      <td>...</td>\n",
       "      <td>4.0</td>\n",
       "      <td>0.5</td>\n",
       "      <td>0.5</td>\n",
       "      <td>0.50</td>\n",
       "      <td>0.0</td>\n",
       "      <td>NaN</td>\n",
       "      <td>0.3</td>\n",
       "      <td>5.80</td>\n",
       "      <td>1</td>\n",
       "      <td>1.0</td>\n",
       "    </tr>\n",
       "    <tr>\n",
       "      <th>3</th>\n",
       "      <td>2</td>\n",
       "      <td>2015-09-01 00:02:36</td>\n",
       "      <td>2015-09-01 00:06:42</td>\n",
       "      <td>N</td>\n",
       "      <td>1</td>\n",
       "      <td>-73.921387</td>\n",
       "      <td>40.766678</td>\n",
       "      <td>-73.931427</td>\n",
       "      <td>40.771584</td>\n",
       "      <td>1</td>\n",
       "      <td>...</td>\n",
       "      <td>5.0</td>\n",
       "      <td>0.5</td>\n",
       "      <td>0.5</td>\n",
       "      <td>0.00</td>\n",
       "      <td>0.0</td>\n",
       "      <td>NaN</td>\n",
       "      <td>0.3</td>\n",
       "      <td>6.30</td>\n",
       "      <td>2</td>\n",
       "      <td>1.0</td>\n",
       "    </tr>\n",
       "    <tr>\n",
       "      <th>4</th>\n",
       "      <td>2</td>\n",
       "      <td>2015-09-01 00:00:14</td>\n",
       "      <td>2015-09-01 00:04:20</td>\n",
       "      <td>N</td>\n",
       "      <td>1</td>\n",
       "      <td>-73.955482</td>\n",
       "      <td>40.714046</td>\n",
       "      <td>-73.944412</td>\n",
       "      <td>40.714729</td>\n",
       "      <td>1</td>\n",
       "      <td>...</td>\n",
       "      <td>5.0</td>\n",
       "      <td>0.5</td>\n",
       "      <td>0.5</td>\n",
       "      <td>0.00</td>\n",
       "      <td>0.0</td>\n",
       "      <td>NaN</td>\n",
       "      <td>0.3</td>\n",
       "      <td>6.30</td>\n",
       "      <td>2</td>\n",
       "      <td>1.0</td>\n",
       "    </tr>\n",
       "  </tbody>\n",
       "</table>\n",
       "<p>5 rows × 21 columns</p>\n",
       "</div>"
      ],
      "text/plain": [
       "   VendorID lpep_pickup_datetime Lpep_dropoff_datetime Store_and_fwd_flag  \\\n",
       "0         2  2015-09-01 00:02:34   2015-09-01 00:02:38                  N   \n",
       "1         2  2015-09-01 00:04:20   2015-09-01 00:04:24                  N   \n",
       "2         2  2015-09-01 00:01:50   2015-09-01 00:04:24                  N   \n",
       "3         2  2015-09-01 00:02:36   2015-09-01 00:06:42                  N   \n",
       "4         2  2015-09-01 00:00:14   2015-09-01 00:04:20                  N   \n",
       "\n",
       "   RateCodeID  Pickup_longitude  Pickup_latitude  Dropoff_longitude  \\\n",
       "0           5        -73.979485        40.684956         -73.979431   \n",
       "1           5        -74.010796        40.912216         -74.010780   \n",
       "2           1        -73.921410        40.766708         -73.914413   \n",
       "3           1        -73.921387        40.766678         -73.931427   \n",
       "4           1        -73.955482        40.714046         -73.944412   \n",
       "\n",
       "   Dropoff_latitude  Passenger_count     ...      Fare_amount  Extra  MTA_tax  \\\n",
       "0         40.685020                1     ...              7.8    0.0      0.0   \n",
       "1         40.912212                1     ...             45.0    0.0      0.0   \n",
       "2         40.764687                1     ...              4.0    0.5      0.5   \n",
       "3         40.771584                1     ...              5.0    0.5      0.5   \n",
       "4         40.714729                1     ...              5.0    0.5      0.5   \n",
       "\n",
       "   Tip_amount  Tolls_amount  Ehail_fee  improvement_surcharge  Total_amount  \\\n",
       "0        1.95           0.0        NaN                    0.0          9.75   \n",
       "1        0.00           0.0        NaN                    0.0         45.00   \n",
       "2        0.50           0.0        NaN                    0.3          5.80   \n",
       "3        0.00           0.0        NaN                    0.3          6.30   \n",
       "4        0.00           0.0        NaN                    0.3          6.30   \n",
       "\n",
       "   Payment_type  Trip_type   \n",
       "0             1         2.0  \n",
       "1             1         2.0  \n",
       "2             1         1.0  \n",
       "3             2         1.0  \n",
       "4             2         1.0  \n",
       "\n",
       "[5 rows x 21 columns]"
      ]
     },
     "execution_count": 12,
     "metadata": {},
     "output_type": "execute_result"
    }
   ],
   "source": [
    "# A quick lookthrough of the first and last 5 rows of data and its values\n",
    "taxiData.head(5)"
   ]
  },
  {
   "cell_type": "code",
   "execution_count": 13,
   "metadata": {},
   "outputs": [
    {
     "data": {
      "text/html": [
       "<div>\n",
       "<table border=\"1\" class=\"dataframe\">\n",
       "  <thead>\n",
       "    <tr style=\"text-align: right;\">\n",
       "      <th></th>\n",
       "      <th>VendorID</th>\n",
       "      <th>lpep_pickup_datetime</th>\n",
       "      <th>Lpep_dropoff_datetime</th>\n",
       "      <th>Store_and_fwd_flag</th>\n",
       "      <th>RateCodeID</th>\n",
       "      <th>Pickup_longitude</th>\n",
       "      <th>Pickup_latitude</th>\n",
       "      <th>Dropoff_longitude</th>\n",
       "      <th>Dropoff_latitude</th>\n",
       "      <th>Passenger_count</th>\n",
       "      <th>...</th>\n",
       "      <th>Fare_amount</th>\n",
       "      <th>Extra</th>\n",
       "      <th>MTA_tax</th>\n",
       "      <th>Tip_amount</th>\n",
       "      <th>Tolls_amount</th>\n",
       "      <th>Ehail_fee</th>\n",
       "      <th>improvement_surcharge</th>\n",
       "      <th>Total_amount</th>\n",
       "      <th>Payment_type</th>\n",
       "      <th>Trip_type</th>\n",
       "    </tr>\n",
       "  </thead>\n",
       "  <tbody>\n",
       "    <tr>\n",
       "      <th>1494921</th>\n",
       "      <td>1</td>\n",
       "      <td>2015-09-30 23:00:01</td>\n",
       "      <td>2015-09-30 23:17:21</td>\n",
       "      <td>N</td>\n",
       "      <td>1</td>\n",
       "      <td>-73.925339</td>\n",
       "      <td>40.761776</td>\n",
       "      <td>-73.786606</td>\n",
       "      <td>40.770184</td>\n",
       "      <td>1</td>\n",
       "      <td>...</td>\n",
       "      <td>30.5</td>\n",
       "      <td>0.5</td>\n",
       "      <td>0.5</td>\n",
       "      <td>0.00</td>\n",
       "      <td>0.0</td>\n",
       "      <td>NaN</td>\n",
       "      <td>0.3</td>\n",
       "      <td>31.80</td>\n",
       "      <td>2</td>\n",
       "      <td>1.0</td>\n",
       "    </tr>\n",
       "    <tr>\n",
       "      <th>1494922</th>\n",
       "      <td>1</td>\n",
       "      <td>2015-09-30 23:00:05</td>\n",
       "      <td>2015-09-30 23:08:13</td>\n",
       "      <td>N</td>\n",
       "      <td>1</td>\n",
       "      <td>-73.974312</td>\n",
       "      <td>40.685802</td>\n",
       "      <td>-73.980591</td>\n",
       "      <td>40.664055</td>\n",
       "      <td>1</td>\n",
       "      <td>...</td>\n",
       "      <td>8.0</td>\n",
       "      <td>0.5</td>\n",
       "      <td>0.5</td>\n",
       "      <td>0.00</td>\n",
       "      <td>0.0</td>\n",
       "      <td>NaN</td>\n",
       "      <td>0.3</td>\n",
       "      <td>9.30</td>\n",
       "      <td>2</td>\n",
       "      <td>1.0</td>\n",
       "    </tr>\n",
       "    <tr>\n",
       "      <th>1494923</th>\n",
       "      <td>1</td>\n",
       "      <td>2015-09-30 23:00:30</td>\n",
       "      <td>2015-09-30 23:08:39</td>\n",
       "      <td>N</td>\n",
       "      <td>1</td>\n",
       "      <td>-73.996437</td>\n",
       "      <td>40.681416</td>\n",
       "      <td>-73.998283</td>\n",
       "      <td>40.662296</td>\n",
       "      <td>1</td>\n",
       "      <td>...</td>\n",
       "      <td>7.5</td>\n",
       "      <td>0.5</td>\n",
       "      <td>0.5</td>\n",
       "      <td>0.00</td>\n",
       "      <td>0.0</td>\n",
       "      <td>NaN</td>\n",
       "      <td>0.3</td>\n",
       "      <td>8.80</td>\n",
       "      <td>2</td>\n",
       "      <td>1.0</td>\n",
       "    </tr>\n",
       "    <tr>\n",
       "      <th>1494924</th>\n",
       "      <td>1</td>\n",
       "      <td>2015-09-30 23:00:10</td>\n",
       "      <td>2015-09-30 23:03:49</td>\n",
       "      <td>N</td>\n",
       "      <td>1</td>\n",
       "      <td>-73.953606</td>\n",
       "      <td>40.587482</td>\n",
       "      <td>-73.941071</td>\n",
       "      <td>40.590843</td>\n",
       "      <td>1</td>\n",
       "      <td>...</td>\n",
       "      <td>5.0</td>\n",
       "      <td>0.5</td>\n",
       "      <td>0.5</td>\n",
       "      <td>1.25</td>\n",
       "      <td>0.0</td>\n",
       "      <td>NaN</td>\n",
       "      <td>0.3</td>\n",
       "      <td>7.55</td>\n",
       "      <td>1</td>\n",
       "      <td>1.0</td>\n",
       "    </tr>\n",
       "    <tr>\n",
       "      <th>1494925</th>\n",
       "      <td>1</td>\n",
       "      <td>2015-09-30 23:00:11</td>\n",
       "      <td>2015-09-30 23:05:36</td>\n",
       "      <td>N</td>\n",
       "      <td>1</td>\n",
       "      <td>-73.966110</td>\n",
       "      <td>40.681351</td>\n",
       "      <td>-73.955452</td>\n",
       "      <td>40.691002</td>\n",
       "      <td>1</td>\n",
       "      <td>...</td>\n",
       "      <td>6.5</td>\n",
       "      <td>0.5</td>\n",
       "      <td>0.5</td>\n",
       "      <td>1.00</td>\n",
       "      <td>0.0</td>\n",
       "      <td>NaN</td>\n",
       "      <td>0.3</td>\n",
       "      <td>8.80</td>\n",
       "      <td>1</td>\n",
       "      <td>1.0</td>\n",
       "    </tr>\n",
       "  </tbody>\n",
       "</table>\n",
       "<p>5 rows × 21 columns</p>\n",
       "</div>"
      ],
      "text/plain": [
       "         VendorID lpep_pickup_datetime Lpep_dropoff_datetime  \\\n",
       "1494921         1  2015-09-30 23:00:01   2015-09-30 23:17:21   \n",
       "1494922         1  2015-09-30 23:00:05   2015-09-30 23:08:13   \n",
       "1494923         1  2015-09-30 23:00:30   2015-09-30 23:08:39   \n",
       "1494924         1  2015-09-30 23:00:10   2015-09-30 23:03:49   \n",
       "1494925         1  2015-09-30 23:00:11   2015-09-30 23:05:36   \n",
       "\n",
       "        Store_and_fwd_flag  RateCodeID  Pickup_longitude  Pickup_latitude  \\\n",
       "1494921                  N           1        -73.925339        40.761776   \n",
       "1494922                  N           1        -73.974312        40.685802   \n",
       "1494923                  N           1        -73.996437        40.681416   \n",
       "1494924                  N           1        -73.953606        40.587482   \n",
       "1494925                  N           1        -73.966110        40.681351   \n",
       "\n",
       "         Dropoff_longitude  Dropoff_latitude  Passenger_count     ...      \\\n",
       "1494921         -73.786606         40.770184                1     ...       \n",
       "1494922         -73.980591         40.664055                1     ...       \n",
       "1494923         -73.998283         40.662296                1     ...       \n",
       "1494924         -73.941071         40.590843                1     ...       \n",
       "1494925         -73.955452         40.691002                1     ...       \n",
       "\n",
       "         Fare_amount  Extra  MTA_tax  Tip_amount  Tolls_amount  Ehail_fee  \\\n",
       "1494921         30.5    0.5      0.5        0.00           0.0        NaN   \n",
       "1494922          8.0    0.5      0.5        0.00           0.0        NaN   \n",
       "1494923          7.5    0.5      0.5        0.00           0.0        NaN   \n",
       "1494924          5.0    0.5      0.5        1.25           0.0        NaN   \n",
       "1494925          6.5    0.5      0.5        1.00           0.0        NaN   \n",
       "\n",
       "         improvement_surcharge  Total_amount  Payment_type  Trip_type   \n",
       "1494921                    0.3         31.80             2         1.0  \n",
       "1494922                    0.3          9.30             2         1.0  \n",
       "1494923                    0.3          8.80             2         1.0  \n",
       "1494924                    0.3          7.55             1         1.0  \n",
       "1494925                    0.3          8.80             1         1.0  \n",
       "\n",
       "[5 rows x 21 columns]"
      ]
     },
     "execution_count": 13,
     "metadata": {},
     "output_type": "execute_result"
    }
   ],
   "source": [
    "taxiData.tail(5)"
   ]
  },
  {
   "cell_type": "code",
   "execution_count": 14,
   "metadata": {},
   "outputs": [
    {
     "data": {
      "text/plain": [
       "1494926"
      ]
     },
     "execution_count": 14,
     "metadata": {},
     "output_type": "execute_result"
    }
   ],
   "source": [
    "# Total number of data recorded\n",
    "taxiData.Trip_distance.size"
   ]
  },
  {
   "cell_type": "markdown",
   "metadata": {},
   "source": [
    "# Question 2"
   ]
  },
  {
   "cell_type": "code",
   "execution_count": 119,
   "metadata": {},
   "outputs": [
    {
     "name": "stdout",
     "output_type": "stream",
     "text": [
      "\n",
      "Information Regarding Trip_distance:\n",
      "    MAX : 603.1,\n",
      "    MIN : 0.0,\n",
      "    MEAN : 2.9681408511189864,\n",
      "    MEDIAN : 1.98\n",
      "\n"
     ]
    }
   ],
   "source": [
    "# Calculate the MAX, MIN, MEAN and MEDIAN of Trip_distance\n",
    "taxiData.Trip_distance.max() # 603.10000000000002 --> 605\n",
    "taxiData.Trip_distance.min() # 0.0 -- > 0\n",
    "taxiData.Trip_distance.size # 1494926 --> 1500000\n",
    "taxiData.Trip_distance.mean() # 2.9681408511189864\n",
    "taxiData.Trip_distance.median() # 1.98\n",
    "print(\"\"\"\n",
    "Information Regarding Trip_distance:\n",
    "    MAX : {},\n",
    "    MIN : {},\n",
    "    MEAN : {},\n",
    "    MEDIAN : {}\n",
    "\"\"\".format(taxiData.Trip_distance.max(),taxiData.Trip_distance.min(), taxiData.Trip_distance.mean(), \n",
    "           taxiData.Trip_distance.median()))"
   ]
  },
  {
   "cell_type": "code",
   "execution_count": 120,
   "metadata": {},
   "outputs": [
    {
     "data": {
      "image/png": "[encoded data removed]",
      "text/plain": [
       "<matplotlib.figure.Figure at 0x11a827d68>"
      ]
     },
     "metadata": {},
     "output_type": "display_data"
    }
   ],
   "source": [
    "# The histogram of all the data recorded in Trip_distance\n",
    "plt.hist(taxiData.Trip_distance, bins = 100, range = [taxiData.Trip_distance.min(),taxiData.Trip_distance.max()])\n",
    "\n",
    "plt.xlabel('Traveled Trip Distance')\n",
    "plt.ylabel('Counts of occurrences')\n",
    "plt.title('Histogram of Trip_distance')\n",
    "plt.grid(True)"
   ]
  },
  {
   "cell_type": "markdown",
   "metadata": {},
   "source": [
    "#### As we can see from above, most trip distances are small and seem to mostly happen within 20 miles\n",
    "#### Thus I divided the histogram to show data within a smaller range for a more accurate look at the values \n",
    "#### and distributions of the data.\n",
    "#### We first plot a histogram with the distance of 0 ~ 50"
   ]
  },
  {
   "cell_type": "code",
   "execution_count": 121,
   "metadata": {},
   "outputs": [
    {
     "data": {
      "image/png": "[encoded data removed]",
      "text/plain": [
       "<matplotlib.figure.Figure at 0x11a833eb8>"
      ]
     },
     "metadata": {},
     "output_type": "display_data"
    }
   ],
   "source": [
    "# Histogram with the range of 0 ~ 50 miles\n",
    "plt.hist(taxiData.Trip_distance, bins = 100, range = [taxiData.Trip_distance.min(),50])\n",
    "plt.xlabel('Traveled Trip Distance')\n",
    "plt.ylabel('Counts of occurrences')\n",
    "plt.title('Histogram of Trip_distance')\n",
    "plt.grid(True)"
   ]
  },
  {
   "cell_type": "markdown",
   "metadata": {},
   "source": [
    "#### From the histogram of distance between 0 and 50, we can see the distribution is highly right skewed and that most people travel within 10 miles. The number of travels for distance larger than 10 miles is comparably small.\n",
    "#### As there seems to be very little occurences of travel distance between 10 to 20 miles,  and close to none with distances larger than 20 miles. \n",
    "#### Yet as the unit of counts for travel distance is very large, with a unit of 50000. What may seem close to zero counts\n",
    "#### may actually still have a significant value such as 500 or more.\n",
    "#### Thus, I further plot two more histograms with the range of 0 ~ 10 miles and 10 ~ 20 miles each for better and more accurate visualization of the data value and its distribution."
   ]
  },
  {
   "cell_type": "code",
   "execution_count": 122,
   "metadata": {},
   "outputs": [
    {
     "data": {
      "image/png": "[encoded data removed]",
      "text/plain": [
       "<matplotlib.figure.Figure at 0x11a240e48>"
      ]
     },
     "metadata": {},
     "output_type": "display_data"
    }
   ],
   "source": [
    "# Histogram with the range of 0 ~ 10 miles\n",
    "plt.hist(taxiData.Trip_distance, bins = 50, range = [0,10])\n",
    "plt.xlabel('Traveled Trip Distance')\n",
    "plt.ylabel('Counts of occurrences')\n",
    "plt.title('Histogram of Trip_distance')\n",
    "plt.grid(True)"
   ]
  },
  {
   "cell_type": "markdown",
   "metadata": {},
   "source": [
    "#### The above histogram gives us better insight for the values. However, the unit still seems a bit too big that we can't really observe the numbers of those less than 2000. \n",
    "#### Thus I created three more histograms to display trip distance with the ranges of 0~3, 3~7 and 7~10 miles for a clearer view of the values."
   ]
  },
  {
   "cell_type": "code",
   "execution_count": 123,
   "metadata": {},
   "outputs": [
    {
     "data": {
      "image/png": "[encoded data removed]",
      "text/plain": [
       "<matplotlib.figure.Figure at 0x11afbfba8>"
      ]
     },
     "metadata": {},
     "output_type": "display_data"
    }
   ],
   "source": [
    "# Histogram with the range of 0 ~ 3 miles\n",
    "plt.hist(taxiData.Trip_distance, bins = 60, range = [0, 3])\n",
    "plt.xlabel('Traveled Trip Distance')\n",
    "plt.ylabel('Counts of occurrences')\n",
    "plt.title('Histogram of Trip_distance')\n",
    "plt.grid(True)"
   ]
  },
  {
   "cell_type": "code",
   "execution_count": 124,
   "metadata": {},
   "outputs": [
    {
     "data": {
      "image/png": "[encoded data removed]",
      "text/plain": [
       "<matplotlib.figure.Figure at 0x11af68588>"
      ]
     },
     "metadata": {},
     "output_type": "display_data"
    }
   ],
   "source": [
    "# Histogram with the range of 3 ~ 7 miles\n",
    "plt.hist(taxiData.Trip_distance, bins = 50, range = [3, 7])\n",
    "plt.xlabel('Traveled Trip Distance')\n",
    "plt.ylabel('Counts of occurrences')\n",
    "plt.title('Histogram of Trip_distance')\n",
    "plt.grid(True)"
   ]
  },
  {
   "cell_type": "code",
   "execution_count": 125,
   "metadata": {},
   "outputs": [
    {
     "data": {
      "text/plain": [
       "(array([ 1828.,   968.,   943.,  1912.,   914.,   949.,  1672.,   927.,\n",
       "          893.,   892.,  1675.,   897.,   854.,  1652.,   877.,   862.,\n",
       "         1713.,   819.,   798.,   829.,  1470.,   762.,   752.,  1457.,\n",
       "          797.,   755.,  1358.,   793.,   729.,   713.,  1344.,   718.,\n",
       "          686.,  1365.,   730.,   677.,  1259.,   624.,   634.,   635.,\n",
       "         1181.,   596.,   617.,  1124.,   573.,   618.,  1138.,   514.,\n",
       "          547.,   566.,  1047.,   497.,   492.,   977.,   533.,   529.,\n",
       "          930.,   471.,   493.,   514.,   929.,   465.,   451.,   916.,\n",
       "          438.,   463.,   816.,   448.,   437.,   453.,   814.,   444.,\n",
       "          442.,   859.,   405.,   444.,   834.,   405.,   541.,   282.,\n",
       "          796.,   388.,   388.,   767.,   367.,   439.,   758.,   389.,\n",
       "          401.,   377.,   731.,   367.,   387.,   680.,   345.,   339.,\n",
       "          711.,   388.,   339.,   830.]),\n",
       " array([  7.  ,   7.03,   7.06,   7.09,   7.12,   7.15,   7.18,   7.21,\n",
       "          7.24,   7.27,   7.3 ,   7.33,   7.36,   7.39,   7.42,   7.45,\n",
       "          7.48,   7.51,   7.54,   7.57,   7.6 ,   7.63,   7.66,   7.69,\n",
       "          7.72,   7.75,   7.78,   7.81,   7.84,   7.87,   7.9 ,   7.93,\n",
       "          7.96,   7.99,   8.02,   8.05,   8.08,   8.11,   8.14,   8.17,\n",
       "          8.2 ,   8.23,   8.26,   8.29,   8.32,   8.35,   8.38,   8.41,\n",
       "          8.44,   8.47,   8.5 ,   8.53,   8.56,   8.59,   8.62,   8.65,\n",
       "          8.68,   8.71,   8.74,   8.77,   8.8 ,   8.83,   8.86,   8.89,\n",
       "          8.92,   8.95,   8.98,   9.01,   9.04,   9.07,   9.1 ,   9.13,\n",
       "          9.16,   9.19,   9.22,   9.25,   9.28,   9.31,   9.34,   9.37,\n",
       "          9.4 ,   9.43,   9.46,   9.49,   9.52,   9.55,   9.58,   9.61,\n",
       "          9.64,   9.67,   9.7 ,   9.73,   9.76,   9.79,   9.82,   9.85,\n",
       "          9.88,   9.91,   9.94,   9.97,  10.  ]),\n",
       " <a list of 100 Patch objects>)"
      ]
     },
     "execution_count": 125,
     "metadata": {},
     "output_type": "execute_result"
    },
    {
     "data": {
      "image/png": "[encoded data removed]",
      "text/plain": [
       "<matplotlib.figure.Figure at 0x11afe2cf8>"
      ]
     },
     "metadata": {},
     "output_type": "display_data"
    }
   ],
   "source": [
    "# Histogram with the range of 7 ~ 10 miles\n",
    "plt.hist(taxiData.Trip_distance, bins = 100, range = [7, 10])"
   ]
  },
  {
   "cell_type": "code",
   "execution_count": 126,
   "metadata": {},
   "outputs": [
    {
     "data": {
      "image/png": "[encoded data removed]",
      "text/plain": [
       "<matplotlib.figure.Figure at 0x11731b470>"
      ]
     },
     "metadata": {},
     "output_type": "display_data"
    }
   ],
   "source": [
    "# Histogram with the range of 10 ~ 20 miles\n",
    "plt.hist(taxiData.Trip_distance, bins = 50, range = [10,20])\n",
    "plt.xlabel('Traveled Trip Distance')\n",
    "plt.ylabel('Counts of occurrences')\n",
    "plt.title('Histogram of Trip_distance')\n",
    "plt.grid(True)"
   ]
  },
  {
   "cell_type": "code",
   "execution_count": 127,
   "metadata": {},
   "outputs": [
    {
     "data": {
      "image/png": "[encoded data removed]",
      "text/plain": [
       "<matplotlib.figure.Figure at 0x11a967eb8>"
      ]
     },
     "metadata": {},
     "output_type": "display_data"
    }
   ],
   "source": [
    "# The histogram plots with trip distance values ranging from 50 to 150 miles\n",
    "plt.hist(taxiData.Trip_distance, bins = 20, range = [50,150])\n",
    "plt.xlabel('Traveled Trip Distance')\n",
    "plt.ylabel('Counts of occurrences')\n",
    "plt.title('Histogram of Trip_distance')\n",
    "plt.grid(True)"
   ]
  },
  {
   "cell_type": "markdown",
   "metadata": {},
   "source": [
    "#### The histogram plot with the rest of the trip distance from 150 miles to the max value of the Trip_distance counted with the code \"taxiData.Trip_distance.max()\", which is 603.1 (about 605).\n",
    "#### And we could see it is very very very very rare for trip distances to happen with a value larger than 150 miles.  with a probability of (2 / 1494926 = 1.33785886391701e-06)"
   ]
  },
  {
   "cell_type": "code",
   "execution_count": 128,
   "metadata": {},
   "outputs": [
    {
     "data": {
      "image/png": "[encoded data removed]",
      "text/plain": [
       "<matplotlib.figure.Figure at 0x119944ef0>"
      ]
     },
     "metadata": {},
     "output_type": "display_data"
    }
   ],
   "source": [
    "# The histogram plot with the rest of the trip distance from 150 miles to the max value of the Trip_distance (about 605)\n",
    "plt.hist(taxiData.Trip_distance, bins = 50, range = [150,taxiData.Trip_distance.max()])\n",
    "plt.xlabel('Traveled Trip Distance')\n",
    "plt.ylabel('Counts of occurrences')\n",
    "plt.title('Histogram of Trip_distance')\n",
    "plt.grid(True)"
   ]
  },
  {
   "cell_type": "markdown",
   "metadata": {},
   "source": [
    "# Below is the statistical summary of the Trip_distance variable."
   ]
  },
  {
   "cell_type": "code",
   "execution_count": 23,
   "metadata": {},
   "outputs": [
    {
     "data": {
      "text/plain": [
       "count    1.494926e+06\n",
       "mean     2.968141e+00\n",
       "std      3.076621e+00\n",
       "min      0.000000e+00\n",
       "25%      1.100000e+00\n",
       "50%      1.980000e+00\n",
       "75%      3.740000e+00\n",
       "max      6.031000e+02\n",
       "Name: Trip_distance, dtype: float64"
      ]
     },
     "execution_count": 23,
     "metadata": {},
     "output_type": "execute_result"
    }
   ],
   "source": [
    "# Generate the statistical summary of the Trip_distance variable.\n",
    "taxiData.Trip_distance.describe()"
   ]
  },
  {
   "cell_type": "markdown",
   "metadata": {},
   "source": [
    "\n",
    "### We can see that the mean is around 3 miles. Yet still many extreme values exists as there are still over thousands of occurrences with a value larger than 13 miles which is the value larger than 3 standard deviations from the mean.\n",
    "\n",
    "### With the data and histogram, I interpret that the population that are not within the densely populated areas of Manhattan mostly reside around a 3 miles radius from the densely populated areas where green taxis are not allowed, and that there may not be a lot of parking spaces a lot of people are willing to take taxis and pay the fees instead of driving to and from the densly populated areas of Manhattan. \n",
    "#### (Of course, this is based on my guess that most of these passengers are heading to the populated areas of Manhattan)\n",
    "### Another hypothesis could be that communities outside the densly populated area are mostly spread around a 3 miles radius from places such as downtown, airports, plazas, bars or school.\n",
    "#     "
   ]
  },
  {
   "cell_type": "markdown",
   "metadata": {},
   "source": [
    "# Question 3"
   ]
  },
  {
   "cell_type": "code",
   "execution_count": 25,
   "metadata": {},
   "outputs": [
    {
     "data": {
      "text/plain": [
       "Index(['VendorID', 'lpep_pickup_datetime', 'Lpep_dropoff_datetime',\n",
       "       'Store_and_fwd_flag', 'RateCodeID', 'Pickup_longitude',\n",
       "       'Pickup_latitude', 'Dropoff_longitude', 'Dropoff_latitude',\n",
       "       'Passenger_count', 'Trip_distance', 'Fare_amount', 'Extra', 'MTA_tax',\n",
       "       'Tip_amount', 'Tolls_amount', 'Ehail_fee', 'improvement_surcharge',\n",
       "       'Total_amount', 'Payment_type', 'Trip_type '],\n",
       "      dtype='object')"
      ]
     },
     "execution_count": 25,
     "metadata": {},
     "output_type": "execute_result"
    }
   ],
   "source": [
    "# Generate all the column names of the data so we would not need to constantly scroll upwards\n",
    "taxiData.columns"
   ]
  },
  {
   "cell_type": "markdown",
   "metadata": {
    "collapsed": true
   },
   "source": [
    "### The method I came up in order to report the mean and median value of trip distance grouped by hour of day, is to first create a new pandas dataframe, \"newdf\", object containing only the trip distance values, then create a function to apply to all the values of the pickup time (the 'lpep_pickup_datetime' variable) to  extract the 'Hours' value within each row of data, assign those values to a new column in the new pandas dataframe, \"newdf\", with a new variable name, \"Hour_of_day\". Lastly, we group the \"newdf\" dataframe by the variable, \"Hour_of_day\", to find the mean and median value of trip distance grouped by hour of day."
   ]
  },
  {
   "cell_type": "code",
   "execution_count": 32,
   "metadata": {
    "collapsed": true
   },
   "outputs": [],
   "source": [
    "# Create a dataframe than contains only the trip distance values\n",
    "newdf = pd.DataFrame(taxiData.Trip_distance)"
   ]
  },
  {
   "cell_type": "markdown",
   "metadata": {},
   "source": [
    "#### Create a function, \"getHour\", that will be applied to all values of the 'lpep_pickup_datetime' variable to extract the \"Hours\" values of each row of data"
   ]
  },
  {
   "cell_type": "code",
   "execution_count": 34,
   "metadata": {
    "collapsed": true
   },
   "outputs": [],
   "source": [
    "# Create the getHour function\n",
    "def getHour(x):\n",
    "    \"\"\"\n",
    "    A function that would be applied to all values within a pandas Series object to extract the \"Hours\" values.\n",
    "    The values in each data would be in the format of a string \"YEAR-MONTH-DAY HOUR:MINUTE:SECOND\"\n",
    "    Exp. '2015-09-01 00:02:34'\n",
    "    \n",
    "    :params x: pandas Series object\n",
    "    :return: \n",
    "    \"\"\"\n",
    "    return x.split()[1].split(':')[0]\n"
   ]
  },
  {
   "cell_type": "code",
   "execution_count": 36,
   "metadata": {
    "collapsed": true
   },
   "outputs": [],
   "source": [
    "# Apply the \"getHour\" function to all values of the 'lpep_pickup_datetime' variable, \n",
    "# then assign those values to a new column in the new pandas dataframe, \"newdf\", \n",
    "# with a new variable name, \"Hour_of_day\".\n",
    "newdf[\"Hour_of_day\"] = taxiData.lpep_pickup_datetime.apply(getHour)"
   ]
  },
  {
   "cell_type": "markdown",
   "metadata": {},
   "source": [
    "##### Finally calculate the mean and median trip distance grouped by hour of day.\n",
    "##### The output will show the two columns and twenty four rows of data.\n",
    "##### The First column shows rows from the first to the last with values of the \"00\" Hour of day to the \"23\" Hour of day.\n",
    "##### The Second column shows the mean trip distance traveled within the corresponding Hour of day"
   ]
  },
  {
   "cell_type": "code",
   "execution_count": 37,
   "metadata": {},
   "outputs": [
    {
     "data": {
      "text/plain": [
       "Hour_of_day\n",
       "00    3.115276\n",
       "01    3.017347\n",
       "02    3.046176\n",
       "03    3.212945\n",
       "04    3.526555\n",
       "05    4.133474\n",
       "06    4.055149\n",
       "07    3.284394\n",
       "08    3.048450\n",
       "09    2.999105\n",
       "10    2.944482\n",
       "11    2.912015\n",
       "12    2.903065\n",
       "13    2.878294\n",
       "14    2.864304\n",
       "15    2.857040\n",
       "16    2.779852\n",
       "17    2.679114\n",
       "18    2.653222\n",
       "19    2.715597\n",
       "20    2.777052\n",
       "21    2.999189\n",
       "22    3.185394\n",
       "23    3.191538\n",
       "Name: Trip_distance, dtype: float64"
      ]
     },
     "execution_count": 37,
     "metadata": {},
     "output_type": "execute_result"
    }
   ],
   "source": [
    "# The MEAN trip distance grouped by hour of day\n",
    "newdf.groupby([newdf.Hour_of_day]).Trip_distance.mean()"
   ]
  },
  {
   "cell_type": "markdown",
   "metadata": {},
   "source": [
    "##### The output will show the two columns and twenty four rows of data.\n",
    "##### The First column shows rows from the first to the last with values of the \"00\" Hour of day to the \"23\" Hour of day. \n",
    "##### The Second column shows the median trip distance traveled within the corresponding Hour of day"
   ]
  },
  {
   "cell_type": "code",
   "execution_count": 38,
   "metadata": {},
   "outputs": [
    {
     "data": {
      "text/plain": [
       "Hour_of_day\n",
       "00    2.20\n",
       "01    2.12\n",
       "02    2.14\n",
       "03    2.20\n",
       "04    2.36\n",
       "05    2.90\n",
       "06    2.84\n",
       "07    2.17\n",
       "08    1.98\n",
       "09    1.96\n",
       "10    1.92\n",
       "11    1.88\n",
       "12    1.89\n",
       "13    1.84\n",
       "14    1.83\n",
       "15    1.81\n",
       "16    1.80\n",
       "17    1.78\n",
       "18    1.80\n",
       "19    1.85\n",
       "20    1.90\n",
       "21    2.03\n",
       "22    2.20\n",
       "23    2.22\n",
       "Name: Trip_distance, dtype: float64"
      ]
     },
     "execution_count": 38,
     "metadata": {},
     "output_type": "execute_result"
    }
   ],
   "source": [
    "# The MEDIAN trip distance grouped by hour of day\n",
    "newdf.groupby([newdf.Hour_of_day]).Trip_distance.median()"
   ]
  },
  {
   "cell_type": "markdown",
   "metadata": {
    "collapsed": true
   },
   "source": [
    "###### Output the column names and frist 10 rows of the data to prevent constantly have to scroll up to look at values"
   ]
  },
  {
   "cell_type": "code",
   "execution_count": 39,
   "metadata": {},
   "outputs": [
    {
     "data": {
      "text/html": [
       "<div>\n",
       "<table border=\"1\" class=\"dataframe\">\n",
       "  <thead>\n",
       "    <tr style=\"text-align: right;\">\n",
       "      <th></th>\n",
       "      <th>VendorID</th>\n",
       "      <th>lpep_pickup_datetime</th>\n",
       "      <th>Lpep_dropoff_datetime</th>\n",
       "      <th>Store_and_fwd_flag</th>\n",
       "      <th>RateCodeID</th>\n",
       "      <th>Pickup_longitude</th>\n",
       "      <th>Pickup_latitude</th>\n",
       "      <th>Dropoff_longitude</th>\n",
       "      <th>Dropoff_latitude</th>\n",
       "      <th>Passenger_count</th>\n",
       "      <th>...</th>\n",
       "      <th>Fare_amount</th>\n",
       "      <th>Extra</th>\n",
       "      <th>MTA_tax</th>\n",
       "      <th>Tip_amount</th>\n",
       "      <th>Tolls_amount</th>\n",
       "      <th>Ehail_fee</th>\n",
       "      <th>improvement_surcharge</th>\n",
       "      <th>Total_amount</th>\n",
       "      <th>Payment_type</th>\n",
       "      <th>Trip_type</th>\n",
       "    </tr>\n",
       "  </thead>\n",
       "  <tbody>\n",
       "    <tr>\n",
       "      <th>0</th>\n",
       "      <td>2</td>\n",
       "      <td>2015-09-01 00:02:34</td>\n",
       "      <td>2015-09-01 00:02:38</td>\n",
       "      <td>N</td>\n",
       "      <td>5</td>\n",
       "      <td>-73.979485</td>\n",
       "      <td>40.684956</td>\n",
       "      <td>-73.979431</td>\n",
       "      <td>40.685020</td>\n",
       "      <td>1</td>\n",
       "      <td>...</td>\n",
       "      <td>7.8</td>\n",
       "      <td>0.0</td>\n",
       "      <td>0.0</td>\n",
       "      <td>1.95</td>\n",
       "      <td>0.0</td>\n",
       "      <td>NaN</td>\n",
       "      <td>0.0</td>\n",
       "      <td>9.75</td>\n",
       "      <td>1</td>\n",
       "      <td>2.0</td>\n",
       "    </tr>\n",
       "    <tr>\n",
       "      <th>1</th>\n",
       "      <td>2</td>\n",
       "      <td>2015-09-01 00:04:20</td>\n",
       "      <td>2015-09-01 00:04:24</td>\n",
       "      <td>N</td>\n",
       "      <td>5</td>\n",
       "      <td>-74.010796</td>\n",
       "      <td>40.912216</td>\n",
       "      <td>-74.010780</td>\n",
       "      <td>40.912212</td>\n",
       "      <td>1</td>\n",
       "      <td>...</td>\n",
       "      <td>45.0</td>\n",
       "      <td>0.0</td>\n",
       "      <td>0.0</td>\n",
       "      <td>0.00</td>\n",
       "      <td>0.0</td>\n",
       "      <td>NaN</td>\n",
       "      <td>0.0</td>\n",
       "      <td>45.00</td>\n",
       "      <td>1</td>\n",
       "      <td>2.0</td>\n",
       "    </tr>\n",
       "    <tr>\n",
       "      <th>2</th>\n",
       "      <td>2</td>\n",
       "      <td>2015-09-01 00:01:50</td>\n",
       "      <td>2015-09-01 00:04:24</td>\n",
       "      <td>N</td>\n",
       "      <td>1</td>\n",
       "      <td>-73.921410</td>\n",
       "      <td>40.766708</td>\n",
       "      <td>-73.914413</td>\n",
       "      <td>40.764687</td>\n",
       "      <td>1</td>\n",
       "      <td>...</td>\n",
       "      <td>4.0</td>\n",
       "      <td>0.5</td>\n",
       "      <td>0.5</td>\n",
       "      <td>0.50</td>\n",
       "      <td>0.0</td>\n",
       "      <td>NaN</td>\n",
       "      <td>0.3</td>\n",
       "      <td>5.80</td>\n",
       "      <td>1</td>\n",
       "      <td>1.0</td>\n",
       "    </tr>\n",
       "    <tr>\n",
       "      <th>3</th>\n",
       "      <td>2</td>\n",
       "      <td>2015-09-01 00:02:36</td>\n",
       "      <td>2015-09-01 00:06:42</td>\n",
       "      <td>N</td>\n",
       "      <td>1</td>\n",
       "      <td>-73.921387</td>\n",
       "      <td>40.766678</td>\n",
       "      <td>-73.931427</td>\n",
       "      <td>40.771584</td>\n",
       "      <td>1</td>\n",
       "      <td>...</td>\n",
       "      <td>5.0</td>\n",
       "      <td>0.5</td>\n",
       "      <td>0.5</td>\n",
       "      <td>0.00</td>\n",
       "      <td>0.0</td>\n",
       "      <td>NaN</td>\n",
       "      <td>0.3</td>\n",
       "      <td>6.30</td>\n",
       "      <td>2</td>\n",
       "      <td>1.0</td>\n",
       "    </tr>\n",
       "    <tr>\n",
       "      <th>4</th>\n",
       "      <td>2</td>\n",
       "      <td>2015-09-01 00:00:14</td>\n",
       "      <td>2015-09-01 00:04:20</td>\n",
       "      <td>N</td>\n",
       "      <td>1</td>\n",
       "      <td>-73.955482</td>\n",
       "      <td>40.714046</td>\n",
       "      <td>-73.944412</td>\n",
       "      <td>40.714729</td>\n",
       "      <td>1</td>\n",
       "      <td>...</td>\n",
       "      <td>5.0</td>\n",
       "      <td>0.5</td>\n",
       "      <td>0.5</td>\n",
       "      <td>0.00</td>\n",
       "      <td>0.0</td>\n",
       "      <td>NaN</td>\n",
       "      <td>0.3</td>\n",
       "      <td>6.30</td>\n",
       "      <td>2</td>\n",
       "      <td>1.0</td>\n",
       "    </tr>\n",
       "    <tr>\n",
       "      <th>5</th>\n",
       "      <td>2</td>\n",
       "      <td>2015-09-01 00:00:39</td>\n",
       "      <td>2015-09-01 00:05:20</td>\n",
       "      <td>N</td>\n",
       "      <td>1</td>\n",
       "      <td>-73.945297</td>\n",
       "      <td>40.808186</td>\n",
       "      <td>-73.937668</td>\n",
       "      <td>40.821198</td>\n",
       "      <td>1</td>\n",
       "      <td>...</td>\n",
       "      <td>5.5</td>\n",
       "      <td>0.5</td>\n",
       "      <td>0.5</td>\n",
       "      <td>1.36</td>\n",
       "      <td>0.0</td>\n",
       "      <td>NaN</td>\n",
       "      <td>0.3</td>\n",
       "      <td>8.16</td>\n",
       "      <td>1</td>\n",
       "      <td>1.0</td>\n",
       "    </tr>\n",
       "    <tr>\n",
       "      <th>6</th>\n",
       "      <td>2</td>\n",
       "      <td>2015-09-01 00:00:52</td>\n",
       "      <td>2015-09-01 00:05:50</td>\n",
       "      <td>N</td>\n",
       "      <td>1</td>\n",
       "      <td>-73.890877</td>\n",
       "      <td>40.746426</td>\n",
       "      <td>-73.876923</td>\n",
       "      <td>40.756306</td>\n",
       "      <td>1</td>\n",
       "      <td>...</td>\n",
       "      <td>6.5</td>\n",
       "      <td>0.5</td>\n",
       "      <td>0.5</td>\n",
       "      <td>0.00</td>\n",
       "      <td>0.0</td>\n",
       "      <td>NaN</td>\n",
       "      <td>0.3</td>\n",
       "      <td>7.80</td>\n",
       "      <td>1</td>\n",
       "      <td>1.0</td>\n",
       "    </tr>\n",
       "    <tr>\n",
       "      <th>7</th>\n",
       "      <td>2</td>\n",
       "      <td>2015-09-01 00:02:15</td>\n",
       "      <td>2015-09-01 00:05:34</td>\n",
       "      <td>N</td>\n",
       "      <td>1</td>\n",
       "      <td>-73.946701</td>\n",
       "      <td>40.797321</td>\n",
       "      <td>-73.937645</td>\n",
       "      <td>40.804516</td>\n",
       "      <td>1</td>\n",
       "      <td>...</td>\n",
       "      <td>5.0</td>\n",
       "      <td>0.5</td>\n",
       "      <td>0.5</td>\n",
       "      <td>0.00</td>\n",
       "      <td>0.0</td>\n",
       "      <td>NaN</td>\n",
       "      <td>0.3</td>\n",
       "      <td>6.30</td>\n",
       "      <td>2</td>\n",
       "      <td>1.0</td>\n",
       "    </tr>\n",
       "    <tr>\n",
       "      <th>8</th>\n",
       "      <td>2</td>\n",
       "      <td>2015-09-01 00:02:36</td>\n",
       "      <td>2015-09-01 00:07:20</td>\n",
       "      <td>N</td>\n",
       "      <td>1</td>\n",
       "      <td>-73.963150</td>\n",
       "      <td>40.693829</td>\n",
       "      <td>-73.956787</td>\n",
       "      <td>40.680531</td>\n",
       "      <td>1</td>\n",
       "      <td>...</td>\n",
       "      <td>6.0</td>\n",
       "      <td>0.5</td>\n",
       "      <td>0.5</td>\n",
       "      <td>1.46</td>\n",
       "      <td>0.0</td>\n",
       "      <td>NaN</td>\n",
       "      <td>0.3</td>\n",
       "      <td>8.76</td>\n",
       "      <td>1</td>\n",
       "      <td>1.0</td>\n",
       "    </tr>\n",
       "    <tr>\n",
       "      <th>9</th>\n",
       "      <td>2</td>\n",
       "      <td>2015-09-01 00:02:13</td>\n",
       "      <td>2015-09-01 00:07:23</td>\n",
       "      <td>N</td>\n",
       "      <td>1</td>\n",
       "      <td>-73.896820</td>\n",
       "      <td>40.746128</td>\n",
       "      <td>-73.888626</td>\n",
       "      <td>40.752724</td>\n",
       "      <td>1</td>\n",
       "      <td>...</td>\n",
       "      <td>5.5</td>\n",
       "      <td>0.5</td>\n",
       "      <td>0.5</td>\n",
       "      <td>0.00</td>\n",
       "      <td>0.0</td>\n",
       "      <td>NaN</td>\n",
       "      <td>0.3</td>\n",
       "      <td>6.80</td>\n",
       "      <td>2</td>\n",
       "      <td>1.0</td>\n",
       "    </tr>\n",
       "  </tbody>\n",
       "</table>\n",
       "<p>10 rows × 21 columns</p>\n",
       "</div>"
      ],
      "text/plain": [
       "   VendorID lpep_pickup_datetime Lpep_dropoff_datetime Store_and_fwd_flag  \\\n",
       "0         2  2015-09-01 00:02:34   2015-09-01 00:02:38                  N   \n",
       "1         2  2015-09-01 00:04:20   2015-09-01 00:04:24                  N   \n",
       "2         2  2015-09-01 00:01:50   2015-09-01 00:04:24                  N   \n",
       "3         2  2015-09-01 00:02:36   2015-09-01 00:06:42                  N   \n",
       "4         2  2015-09-01 00:00:14   2015-09-01 00:04:20                  N   \n",
       "5         2  2015-09-01 00:00:39   2015-09-01 00:05:20                  N   \n",
       "6         2  2015-09-01 00:00:52   2015-09-01 00:05:50                  N   \n",
       "7         2  2015-09-01 00:02:15   2015-09-01 00:05:34                  N   \n",
       "8         2  2015-09-01 00:02:36   2015-09-01 00:07:20                  N   \n",
       "9         2  2015-09-01 00:02:13   2015-09-01 00:07:23                  N   \n",
       "\n",
       "   RateCodeID  Pickup_longitude  Pickup_latitude  Dropoff_longitude  \\\n",
       "0           5        -73.979485        40.684956         -73.979431   \n",
       "1           5        -74.010796        40.912216         -74.010780   \n",
       "2           1        -73.921410        40.766708         -73.914413   \n",
       "3           1        -73.921387        40.766678         -73.931427   \n",
       "4           1        -73.955482        40.714046         -73.944412   \n",
       "5           1        -73.945297        40.808186         -73.937668   \n",
       "6           1        -73.890877        40.746426         -73.876923   \n",
       "7           1        -73.946701        40.797321         -73.937645   \n",
       "8           1        -73.963150        40.693829         -73.956787   \n",
       "9           1        -73.896820        40.746128         -73.888626   \n",
       "\n",
       "   Dropoff_latitude  Passenger_count     ...      Fare_amount  Extra  MTA_tax  \\\n",
       "0         40.685020                1     ...              7.8    0.0      0.0   \n",
       "1         40.912212                1     ...             45.0    0.0      0.0   \n",
       "2         40.764687                1     ...              4.0    0.5      0.5   \n",
       "3         40.771584                1     ...              5.0    0.5      0.5   \n",
       "4         40.714729                1     ...              5.0    0.5      0.5   \n",
       "5         40.821198                1     ...              5.5    0.5      0.5   \n",
       "6         40.756306                1     ...              6.5    0.5      0.5   \n",
       "7         40.804516                1     ...              5.0    0.5      0.5   \n",
       "8         40.680531                1     ...              6.0    0.5      0.5   \n",
       "9         40.752724                1     ...              5.5    0.5      0.5   \n",
       "\n",
       "   Tip_amount  Tolls_amount  Ehail_fee  improvement_surcharge  Total_amount  \\\n",
       "0        1.95           0.0        NaN                    0.0          9.75   \n",
       "1        0.00           0.0        NaN                    0.0         45.00   \n",
       "2        0.50           0.0        NaN                    0.3          5.80   \n",
       "3        0.00           0.0        NaN                    0.3          6.30   \n",
       "4        0.00           0.0        NaN                    0.3          6.30   \n",
       "5        1.36           0.0        NaN                    0.3          8.16   \n",
       "6        0.00           0.0        NaN                    0.3          7.80   \n",
       "7        0.00           0.0        NaN                    0.3          6.30   \n",
       "8        1.46           0.0        NaN                    0.3          8.76   \n",
       "9        0.00           0.0        NaN                    0.3          6.80   \n",
       "\n",
       "   Payment_type  Trip_type   \n",
       "0             1         2.0  \n",
       "1             1         2.0  \n",
       "2             1         1.0  \n",
       "3             2         1.0  \n",
       "4             2         1.0  \n",
       "5             1         1.0  \n",
       "6             1         1.0  \n",
       "7             2         1.0  \n",
       "8             1         1.0  \n",
       "9             2         1.0  \n",
       "\n",
       "[10 rows x 21 columns]"
      ]
     },
     "execution_count": 39,
     "metadata": {},
     "output_type": "execute_result"
    }
   ],
   "source": [
    "taxiData.head(10)"
   ]
  },
  {
   "cell_type": "code",
   "execution_count": 40,
   "metadata": {},
   "outputs": [
    {
     "data": {
      "text/plain": [
       "Index(['VendorID', 'lpep_pickup_datetime', 'Lpep_dropoff_datetime',\n",
       "       'Store_and_fwd_flag', 'RateCodeID', 'Pickup_longitude',\n",
       "       'Pickup_latitude', 'Dropoff_longitude', 'Dropoff_latitude',\n",
       "       'Passenger_count', 'Trip_distance', 'Fare_amount', 'Extra', 'MTA_tax',\n",
       "       'Tip_amount', 'Tolls_amount', 'Ehail_fee', 'improvement_surcharge',\n",
       "       'Total_amount', 'Payment_type', 'Trip_type '],\n",
       "      dtype='object')"
      ]
     },
     "execution_count": 40,
     "metadata": {},
     "output_type": "execute_result"
    }
   ],
   "source": [
    "taxiData.columns"
   ]
  },
  {
   "cell_type": "code",
   "execution_count": 41,
   "metadata": {
    "collapsed": true
   },
   "outputs": [],
   "source": [
    "# Create a new pandas dataframe object named \"bufferdf\" to record the only two column values, \n",
    "# \"RateCodeID\"&\"Fare_amount\" for usage of grouping and mean calculation of the fare amount for different RateCodeID\n",
    "bufferdf = taxiData[['RateCodeID','Fare_amount']]"
   ]
  },
  {
   "cell_type": "code",
   "execution_count": 42,
   "metadata": {},
   "outputs": [
    {
     "data": {
      "text/plain": [
       "46048"
      ]
     },
     "execution_count": 42,
     "metadata": {},
     "output_type": "execute_result"
    }
   ],
   "source": [
    "# Find the transacations that fit the criteria of trips that terminated at one of the NYC airports, identified \n",
    "# by the RateCodeID values equal to 2 or 3 or 4, each representing the airports JFK, Newark, Nassau or Westchester\n",
    "bufferdf.Fare_amount[(bufferdf.Fare_amount==2) | (bufferdf.Fare_amount==3) | (bufferdf.Fare_amount==4)].apply(int).size"
   ]
  },
  {
   "cell_type": "markdown",
   "metadata": {},
   "source": [
    "###### The Number of the transacations that fit the criteria of trips that terminated at one of the NYC airports:\n",
    "#### 46048"
   ]
  },
  {
   "cell_type": "code",
   "execution_count": 43,
   "metadata": {},
   "outputs": [
    {
     "data": {
      "text/plain": [
       "1494926"
      ]
     },
     "execution_count": 43,
     "metadata": {},
     "output_type": "execute_result"
    }
   ],
   "source": [
    "# Total numbers of recorded data = 1494926\n",
    "taxiData.Trip_distance.size"
   ]
  },
  {
   "cell_type": "code",
   "execution_count": 44,
   "metadata": {
    "collapsed": true
   },
   "outputs": [],
   "source": [
    "# Group the values together based on the RateCodeID values and assign the dataframe back to the 'bufferdf' variable.\n",
    "bufferdf = bufferdf.groupby([bufferdf.RateCodeID])"
   ]
  },
  {
   "cell_type": "markdown",
   "metadata": {},
   "source": [
    "#### The MEAN of the fare amount the RateCodeID values equal to 2 or 3 or 4, each representing the airports JFK, Newark, Nassau or Westchester"
   ]
  },
  {
   "cell_type": "code",
   "execution_count": 45,
   "metadata": {},
   "outputs": [
    {
     "data": {
      "text/plain": [
       "RateCodeID\n",
       "2    49.021871\n",
       "3    48.798568\n",
       "4    60.164886\n",
       "Name: Fare_amount, dtype: float64"
      ]
     },
     "execution_count": 45,
     "metadata": {},
     "output_type": "execute_result"
    }
   ],
   "source": [
    "# Get the mean values of the airports in NYC with the index number of 2, 3 and 4.\n",
    "bufferdf.Fare_amount.mean().ix[[2,3,4]]"
   ]
  },
  {
   "cell_type": "markdown",
   "metadata": {},
   "source": [
    "### The MEAN of Fare Amount that the transacations that fit the criteria of trips that terminated at one of the NYC airports.\n",
    "#### JFK(2) : 49.021871\n",
    "#### Newark(3) : 48.798568\n",
    "#### Nassau or Westchester(4) : 60.164886"
   ]
  },
  {
   "cell_type": "code",
   "execution_count": 46,
   "metadata": {},
   "outputs": [
    {
     "data": {
      "text/plain": [
       "RateCodeID\n",
       "1     12.244825\n",
       "2     49.021871\n",
       "3     48.798568\n",
       "4     60.164886\n",
       "5     18.082432\n",
       "6      2.138889\n",
       "99    12.183333\n",
       "Name: Fare_amount, dtype: float64"
      ]
     },
     "execution_count": 46,
     "metadata": {},
     "output_type": "execute_result"
    }
   ],
   "source": [
    "# The mean of all the RateCodeID values\n",
    "bufferdf.Fare_amount.mean()"
   ]
  },
  {
   "cell_type": "markdown",
   "metadata": {
    "collapsed": true
   },
   "source": [
    "### By comparing the mean of ALL the fare amount of the RateCodeID to the fare amounts of trips that terminated at one of the NYC airports, identified by the RateCodeID values equal to 2 or 3 or 4. We can see that the average fare amount for trips that terminate at the NYC airports are alot more higher than other termination points.\n",
    "### Furthermore, from the previous findings, we see that a total number of 46048 transacations fit the criteria of trips that terminated at one of the NYC airports, however that is a small amount compared to the whole data which has 1494926, with a portion of 46048/1494926 = 0.03080286248282524 (about only 3 percent).\n",
    "### As we know from the previous historgram plots of the trip distance, we know that the portions of trips with distances over 20 miles is very very small, and as we know that taxi charges more with the amount of distance it covers for each service. Thus, we can speculate that the extreme values of trip distances may result from passengers traveling long distances to one of the NYC airports.\n",
    "\n",
    "#  "
   ]
  },
  {
   "cell_type": "markdown",
   "metadata": {},
   "source": [
    "# Question 4"
   ]
  },
  {
   "cell_type": "markdown",
   "metadata": {},
   "source": [
    "###### In case of messing up the orignal dataframe values. I first create another new dataframe 'taxiData2' to serve as a copy of the original 'taxiData' to perform data manipulations on."
   ]
  },
  {
   "cell_type": "code",
   "execution_count": 67,
   "metadata": {
    "collapsed": true
   },
   "outputs": [],
   "source": [
    "# Create another new dataframe 'taxiData2' to serve as a copy of the original 'taxiData'\n",
    "# to perform data manipulations on\n",
    "taxiData2 = taxiData"
   ]
  },
  {
   "cell_type": "markdown",
   "metadata": {},
   "source": [
    "#### In order to calculate tip as a percentage of the total fare, we need to divide each row's \"Tip_amount\" with the  \"Fare_amount\" data value. Thus, we need to check the \"Fare_amount\" values to make sure if any of it equals zero (0)."
   ]
  },
  {
   "cell_type": "code",
   "execution_count": 68,
   "metadata": {},
   "outputs": [
    {
     "data": {
      "text/plain": [
       "True"
      ]
     },
     "execution_count": 68,
     "metadata": {},
     "output_type": "execute_result"
    }
   ],
   "source": [
    "# Checking if there are any values of Fare_amount that equals to 0\n",
    "(taxiData2.Fare_amount == 0).any() # This Returns True, meaning there are values that equal to 0"
   ]
  },
  {
   "cell_type": "code",
   "execution_count": 69,
   "metadata": {},
   "outputs": [
    {
     "data": {
      "text/plain": [
       "True"
      ]
     },
     "execution_count": 69,
     "metadata": {},
     "output_type": "execute_result"
    }
   ],
   "source": [
    "# Also, we need to check if there were any misrecorded values that may make a fare amount less than 0.\n",
    "(taxiData2.Fare_amount < 0).any() # This Returns True, meaning there are values that are negative"
   ]
  },
  {
   "cell_type": "code",
   "execution_count": 70,
   "metadata": {},
   "outputs": [
    {
     "data": {
      "text/plain": [
       "False"
      ]
     },
     "execution_count": 70,
     "metadata": {},
     "output_type": "execute_result"
    }
   ],
   "source": [
    "# Same goes for the Tip_amount, we need to be sure there are no negative values recorded. If so, set them to 0.\n",
    "(taxiData2.Tip_amount < 0).any() # This Returns True, meaning there are values that are negative"
   ]
  },
  {
   "cell_type": "code",
   "execution_count": 71,
   "metadata": {
    "collapsed": true
   },
   "outputs": [],
   "source": [
    "# Set negative values in Tip_amount to 0\n",
    "taxiData2.loc[taxiData2.Tip_amount < 0, \"Tip_amount\"] = 0"
   ]
  },
  {
   "cell_type": "code",
   "execution_count": 72,
   "metadata": {},
   "outputs": [
    {
     "data": {
      "text/plain": [
       "False"
      ]
     },
     "execution_count": 72,
     "metadata": {},
     "output_type": "execute_result"
    }
   ],
   "source": [
    "# Double check if there are no more negative values in dataframe's \"Tip_amount\".\n",
    "(taxiData2.Tip_amount < 0).any() # This Returns False, proving we have successfully changed the values with no negative"
   ]
  },
  {
   "cell_type": "markdown",
   "metadata": {},
   "source": [
    "#### We can see that there are values of \"Fare_amount\" that equals 0, and as the divisor can not be 0, we must set the original values of \"Fare_amount\" that equals to 0 to 1 to avoid divisor having the 0 value, we also would need to perform the same procedures for those records that have negative values."
   ]
  },
  {
   "cell_type": "code",
   "execution_count": 73,
   "metadata": {
    "collapsed": true
   },
   "outputs": [],
   "source": [
    "# In order to set the values that are originally 0 or with negative values to 1 in \"Fare_amount\", we need to first \n",
    "# find their dataframe indexes within the \"Fare_amount\" column. Then select the \"Fare_amount\" column, which each \n",
    "# value would only be 0 or negative then assign those values as 1.\n",
    "taxiData2.loc[taxiData2.Fare_amount <=0, \"Fare_amount\"] = 1"
   ]
  },
  {
   "cell_type": "code",
   "execution_count": 74,
   "metadata": {},
   "outputs": [
    {
     "data": {
      "text/plain": [
       "False"
      ]
     },
     "execution_count": 74,
     "metadata": {},
     "output_type": "execute_result"
    }
   ],
   "source": [
    "# Double check if there are no more values of 0 or negative values in dataframe's \"Fare_amount\".\n",
    "(taxiData2.Fare_amount <= 0).any() # This Returns False, proving we have successfully changed the values with no negative\n"
   ]
  },
  {
   "cell_type": "markdown",
   "metadata": {},
   "source": [
    "#### The returned result is \"False\", confirming that we have successfully changed the original values of 0 in the  \"Fare_amount\" to 1, avoiding any potential errors that could arise when we calculate the tip as a percentage of the total fare when we need to divide each row's \"Tip_amount\" with the Fare_amount\" data value.\n"
   ]
  },
  {
   "cell_type": "markdown",
   "metadata": {},
   "source": [
    "### Now that all the values that may mislead us and that may cause an error are dealt with, we can go along to build a derived variable, named \"Tip_percentage_of_total_fare\", for tip as a percentage of the total fare  by dividing each row's \"Tip_amount\" with \"Fare_amount\" data value."
   ]
  },
  {
   "cell_type": "code",
   "execution_count": 75,
   "metadata": {
    "collapsed": true
   },
   "outputs": [],
   "source": [
    "# Create variable 'Tip_percentage_of_total_fare' to store the calculations of tip as a percentage of the total fare\n",
    "# by dividing each row's \"Tip_amount\" with \"Fare_amount\" data value\n",
    "Tip_percentage_of_total_fare = taxiData.Tip_amount / taxiData2.Fare_amount"
   ]
  },
  {
   "cell_type": "code",
   "execution_count": 76,
   "metadata": {
    "collapsed": true
   },
   "outputs": [],
   "source": [
    "# Change the variables that had their values changed back to the original 'taxiData' dataframe.\n",
    "# Then add the new variable \"Tip_percentage_of_total_fare\" as a new column of data with its variable name \n",
    "# as the column name.\n",
    "taxiData = taxiData2\n",
    "taxiData[\"Tip_percentage_of_total_fare\"] = Tip_percentage_of_total_fare\n"
   ]
  },
  {
   "cell_type": "markdown",
   "metadata": {},
   "source": [
    "### Because the tips that are 0 means they are not automatically generated due to the passengers not using credit card as a payment. Thus, in order to get a more accurate mean of the tips, we exclude the Tip_amounts that are 0 (Which also means that the Tip_percentage_of_total_fare would be 0 as well) and calculate the mean of those that are not 0."
   ]
  },
  {
   "cell_type": "code",
   "execution_count": 117,
   "metadata": {},
   "outputs": [
    {
     "name": "stdout",
     "output_type": "stream",
     "text": [
      "MEAN of Tip as a percentage of the total fare = 0.24961780650979515\n"
     ]
    }
   ],
   "source": [
    "# Exclude the Tip_amounts that are 0 and calculate the mean of those that are not 0.\n",
    "taxiData[Tip_percentage_of_total_fare != 0].Tip_percentage_of_total_fare.mean() # tip percentage mean is around 0.25\n",
    "print(\"MEAN of Tip as a percentage of the total fare = {}\"\n",
    "      .format(taxiData[Tip_percentage_of_total_fare != 0].Tip_percentage_of_total_fare.mean()))"
   ]
  },
  {
   "cell_type": "code",
   "execution_count": 118,
   "metadata": {},
   "outputs": [
    {
     "data": {
      "image/png": "[encoded data removed]",
      "text/plain": [
       "<matplotlib.figure.Figure at 0x11a8252e8>"
      ]
     },
     "metadata": {},
     "output_type": "display_data"
    }
   ],
   "source": [
    "# create a scatter plot to look at the distribution to decide which predictive model to use\n",
    "plt.scatter(taxiData[Tip_percentage_of_total_fare!=0].Fare_amount,\n",
    "            taxiData[Tip_percentage_of_total_fare!=0].Tip_percentage_of_total_fare)\n",
    "plt.xlabel('Fare Amount')\n",
    "plt.ylabel('Tip percentage of total fare')\n",
    "plt.title('Scatter plot of Tip as a percentage of the total fare vs Total Fare amount')\n",
    "plt.grid(True)"
   ]
  },
  {
   "cell_type": "markdown",
   "metadata": {},
   "source": [
    "#### As the scatter plot clearly shows that it is non-linear (more like exponential), I decided to use RandomForest as a prediction model"
   ]
  },
  {
   "cell_type": "markdown",
   "metadata": {},
   "source": [
    "### First, we Create training and testing data, with Tip_percentage_of_total_fare as the dependent variable and Fare_amount as the independent factor.\n",
    "### Use the front 70% of data as training data for the model and the las 30% of data as the testing model.\n",
    "### Currently we are looking at Tip_percentage_of_total_fare that does not have a value of 0 for a more accurate approach."
   ]
  },
  {
   "cell_type": "code",
   "execution_count": 79,
   "metadata": {
    "collapsed": true
   },
   "outputs": [],
   "source": [
    "# Creating training and testing data for both variables\n",
    "xtrain = taxiData[Tip_percentage_of_total_fare!=0].Fare_amount[:int(taxiData.size*0.7)]\n",
    "ytrain = taxiData[Tip_percentage_of_total_fare!=0].Tip_percentage_of_total_fare[:int(taxiData.size*0.7)]\n",
    "xtest = taxiData[Tip_percentage_of_total_fare!=0].Fare_amount[int(taxiData.size*0.7):]\n",
    "ytest = taxiData[Tip_percentage_of_total_fare!=0].Tip_percentage_of_total_fare[int(taxiData.size*0.7):]"
   ]
  },
  {
   "cell_type": "code",
   "execution_count": null,
   "metadata": {
    "collapsed": true
   },
   "outputs": [],
   "source": [
    "from sklearn import svm\n",
    "\n",
    "x = xtrain\n",
    "# reshape the x variable so it could fit into the model\n",
    "x = x.reshape(-1,1)\n",
    "y = ytrain\n",
    "\n",
    "# Using RandomForestClassifier as the prediction model\n",
    "svmRegressionModel = svm.SVR(kernel='poly')\n",
    "svmRegressionModel.fit(x,y)"
   ]
  },
  {
   "cell_type": "code",
   "execution_count": null,
   "metadata": {
    "collapsed": true
   },
   "outputs": [],
   "source": [
    "from sklearn.ensemble import RandomForestClassifier \n",
    "\n",
    "#Using RandomForestRegressor as the prediction model\n",
    "randomForestModel = RandomForestClassifier(n_estimators=1000)\n",
    "# Train the model using the training sets\n",
    "randomForestModel.fit(xtrain, ytrain)\n",
    "# Predict Output\n",
    "predicted= randomForestModel.predict(x_test)"
   ]
  },
  {
   "cell_type": "code",
   "execution_count": null,
   "metadata": {
    "collapsed": true
   },
   "outputs": [],
   "source": []
  },
  {
   "cell_type": "markdown",
   "metadata": {},
   "source": [
    "# Question 5."
   ]
  },
  {
   "cell_type": "markdown",
   "metadata": {},
   "source": [
    "### Option E.\n",
    "### I would like to know the usage of credit cards for taxis, such as how often they are used, in what conditions,  travel distances, amounts paid, areas traveled to and how many total passengers were there for a person to pay with credit cards. \n",
    "### I hope this may give us some breef insights to the behaviors of people who use their credit cards related to transportation."
   ]
  },
  {
   "cell_type": "markdown",
   "metadata": {},
   "source": [
    "#  "
   ]
  },
  {
   "cell_type": "markdown",
   "metadata": {},
   "source": [
    "### In order to do analysis on credit cards, we first must categorize the credit card usage. Thus categorize transactions using credit cards as the number 1, and those with cash as the number 0.\n",
    "### Then we group the data based on this new information, and then look through each variable based on the usage of credit cards for payments to see if there are any interesting findings."
   ]
  },
  {
   "cell_type": "markdown",
   "metadata": {},
   "source": [
    "#### First, create another dataframe names 'Used_credit_card' to store only the Tip_amount in the original data in order to categorize the values to represent '1' as credit card used for payment, and '0' for NOT using a credit card."
   ]
  },
  {
   "cell_type": "code",
   "execution_count": 100,
   "metadata": {
    "collapsed": true
   },
   "outputs": [],
   "source": [
    "# create another dataframe names 'Used_credit_card' to store only the Tip_amount in the original data\n",
    "Used_credit_card = pd.DataFrame(taxiData.Tip_amount)\n",
    "\n",
    "# Filter through the values and categorize the values so that we represent '1' as credit card used for payment, \n",
    "# and '0' for NOT using a credit card\n",
    "Used_credit_card.loc[Used_credit_card.Tip_amount > 0, \"Tip_amount\"] = 1 #Catergorize 1 as credit cards used for payment\n",
    "\n",
    "# Add this new data back to the original dataframe with a new column name \"Used_credit_card\"\n",
    "taxiData[\"Used_credit_card\"] = Used_credit_card \n",
    "\n",
    "# Add our previous processed data \"Hour_of_day\" in the 'newdf' dataframe to the original dataframe\n",
    "taxiData[\"Hour_of_day\"] = newdf.Hour_of_day\n",
    "\n",
    "# Group the data based on \"Used_credit_card\"\n",
    "gpCreditCard = taxiData.groupby([taxiData.Used_credit_card])\n"
   ]
  },
  {
   "cell_type": "markdown",
   "metadata": {},
   "source": [
    "#### After the completion of data process, we then look at the statistical information of different data based on credit card usage"
   ]
  },
  {
   "cell_type": "code",
   "execution_count": 102,
   "metadata": {},
   "outputs": [
    {
     "data": {
      "text/plain": [
       "Used_credit_card       \n",
       "0.0               count    892194.000000\n",
       "                  mean          2.605003\n",
       "                  std           2.885074\n",
       "                  min           0.000000\n",
       "                  25%           0.980000\n",
       "                  50%           1.700000\n",
       "                  75%           3.200000\n",
       "                  max         603.100000\n",
       "1.0               count    602732.000000\n",
       "                  mean          3.505676\n",
       "                  std           3.266777\n",
       "                  min           0.000000\n",
       "                  25%           1.320000\n",
       "                  50%           2.500000\n",
       "                  75%           4.540000\n",
       "                  max         246.280000\n",
       "Name: Trip_distance, dtype: float64"
      ]
     },
     "execution_count": 102,
     "metadata": {},
     "output_type": "execute_result"
    }
   ],
   "source": [
    "# Information of Trip_distance based on credit card usage\n",
    "gpCreditCard.Trip_distance.describe()"
   ]
  },
  {
   "cell_type": "markdown",
   "metadata": {},
   "source": [
    "### We can see that the distance of a trip of using a credit card has a higher mean and standard deviation than those that pay in cash. It also has a maximum travel distance (extreme value) that is not as large as the max travel distance of the payments using cash. And as we know, the more grounds you cover taking a taxi, the higher the fee gets. Thus, we can make an  inference that even though payments of using a credit card has only a slightly higher mean, those who use credit cards for transportation payment are more likely to occur when the fare is higher and are more likely to travel a longer distance, but they do not tend to travel very far off somewhere.\n",
    "#  "
   ]
  },
  {
   "cell_type": "code",
   "execution_count": 103,
   "metadata": {},
   "outputs": [
    {
     "data": {
      "text/plain": [
       "Used_credit_card       \n",
       "0.0               count    892194.000000\n",
       "                  mean          0.000000\n",
       "                  std           0.000000\n",
       "                  min           0.000000\n",
       "                  25%           0.000000\n",
       "                  50%           0.000000\n",
       "                  75%           0.000000\n",
       "                  max           0.000000\n",
       "1.0               count    602732.000000\n",
       "                  mean          3.065131\n",
       "                  std           3.008482\n",
       "                  min           0.010000\n",
       "                  25%           1.580000\n",
       "                  50%           2.320000\n",
       "                  75%           3.700000\n",
       "                  max         300.000000\n",
       "Name: Tip_amount, dtype: float64"
      ]
     },
     "execution_count": 103,
     "metadata": {},
     "output_type": "execute_result"
    }
   ],
   "source": [
    "# Information of Tip_amount based on credit card usage\n",
    "gpCreditCard.Tip_amount.describe()"
   ]
  },
  {
   "cell_type": "markdown",
   "metadata": {},
   "source": [
    "### Combined with the previous Trip_distance information, we can see that the tip amount highly correlates to Trip_distance.\n",
    "#  "
   ]
  },
  {
   "cell_type": "code",
   "execution_count": 104,
   "metadata": {},
   "outputs": [
    {
     "data": {
      "text/plain": [
       "Used_credit_card       \n",
       "0.0               count    892194.000000\n",
       "                  mean          1.370014\n",
       "                  std           1.037308\n",
       "                  min           0.000000\n",
       "                  25%           1.000000\n",
       "                  50%           1.000000\n",
       "                  75%           1.000000\n",
       "                  max           9.000000\n",
       "1.0               count    602732.000000\n",
       "                  mean          1.371462\n",
       "                  std           1.042553\n",
       "                  min           0.000000\n",
       "                  25%           1.000000\n",
       "                  50%           1.000000\n",
       "                  75%           1.000000\n",
       "                  max           9.000000\n",
       "Name: Passenger_count, dtype: float64"
      ]
     },
     "execution_count": 104,
     "metadata": {},
     "output_type": "execute_result"
    }
   ],
   "source": [
    "# Information of Passenger_count based on credit card usage\n",
    "gpCreditCard.Passenger_count.describe()"
   ]
  },
  {
   "cell_type": "markdown",
   "metadata": {},
   "source": [
    "### From the information, we can not tell any difference of how the number of passengers could affect the method of payment. As I initially guessed that as there are more passengers in a taxi, passengers may tend to pay with credit card then have others pay them back through echecks or mobile apps. But we can see now that is not the case. Meaning that the number of passengers would not be a factor to using credit cards for payments.\n",
    "\n",
    "### However, we may guess that perhaps passengers that travel in groups may usually be in the same family, as one member of the family pays for everyone for taking the taxi, and do not need others to pay them back, whether with cash or credit card.\n",
    "#  "
   ]
  },
  {
   "cell_type": "code",
   "execution_count": 105,
   "metadata": {},
   "outputs": [
    {
     "data": {
      "text/plain": [
       "Used_credit_card        \n",
       "0.0               count     892194\n",
       "                  unique        24\n",
       "                  top           18\n",
       "                  freq       57515\n",
       "1.0               count     602732\n",
       "                  unique        24\n",
       "                  top           19\n",
       "                  freq       40511\n",
       "Name: Hour_of_day, dtype: object"
      ]
     },
     "execution_count": 105,
     "metadata": {},
     "output_type": "execute_result"
    }
   ],
   "source": [
    "# Information of Hour_of_day based on credit card usage\n",
    "gpCreditCard.Hour_of_day.describe()"
   ]
  },
  {
   "cell_type": "markdown",
   "metadata": {},
   "source": [
    "### The information above also shows that the Hour of day doesn't affect the payment type of passengers taking a taxi, as their highest frequency payments only differs 1 hour. However, we can see that most transactions for both types of payments happen at night, which we may be able to use to extract important information combined with other data.\n",
    "#  "
   ]
  },
  {
   "cell_type": "markdown",
   "metadata": {},
   "source": [
    "## All in all, it seems as though the information we have can not give as much insight regarding credit card usage with taxis. However, if there were other data and information such as what kind of stores, landmarks, recreations, housing, communities around the area of Manhattan we could probably make more inference regarding credit card usage and transportation."
   ]
  }
 ],
 "metadata": {
  "anaconda-cloud": {},
  "kernelspec": {
   "display_name": "Python [conda root]",
   "language": "python",
   "name": "conda-root-py"
  },
  "language_info": {
   "codemirror_mode": {
    "name": "ipython",
    "version": 3
   },
   "file_extension": ".py",
   "mimetype": "text/x-python",
   "name": "python",
   "nbconvert_exporter": "python",
   "pygments_lexer": "ipython3",
   "version": "3.5.2"
  }
 },
 "nbformat": 4,
 "nbformat_minor": 2
}
